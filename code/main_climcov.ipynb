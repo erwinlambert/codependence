{
 "cells": [
  {
   "cell_type": "code",
   "execution_count": 1,
   "metadata": {},
   "outputs": [],
   "source": [
    "import xarray as xr\n",
    "import numpy as np\n",
    "import scipy.stats as st"
   ]
  },
  {
   "cell_type": "code",
   "execution_count": 2,
   "metadata": {},
   "outputs": [],
   "source": [
    "mods = ['bcc-csm1-1','CanESM2','CCSM4','CNRM-CM5','CSIRO-Mk3-6-0','GFDL-CM3','GISS-E2-R','HadGEM2-ES','inmcm4','IPSL-CM5A-LR','MIROC-ESM','MIROC5','MRI-CGCM3','NorESM1-M']"
   ]
  },
  {
   "cell_type": "code",
   "execution_count": 3,
   "metadata": {},
   "outputs": [],
   "source": [
    "#Get 1x1 degree grid\n",
    "with xr.open_dataset('../rawdata/rsl_85_2090.nc') as ds:\n",
    "    lon = ds['x'].values\n",
    "    lat = ds['y'].values\n",
    "    slr_md = ds['slr_md'].values"
   ]
  },
  {
   "cell_type": "code",
   "execution_count": 4,
   "metadata": {},
   "outputs": [],
   "source": [
    "def get_vars(scen):\n",
    "    stdn = np.zeros((len(mods),len(lat),len(lon)))    \n",
    "    glac = np.zeros((len(mods),len(lat),len(lon)))\n",
    "    gsmb = np.zeros((len(mods),len(lat),len(lon)))    \n",
    "    asmb = np.zeros((len(mods),len(lat),len(lon)))\n",
    "    adyn = np.zeros((len(mods),len(lat),len(lon)))    \n",
    "    \n",
    "    for m,model in enumerate(mods):\n",
    "        #Read RSL\n",
    "        with xr.open_dataset(f'../data/rsl/{model}_{scen}.nc') as ds:\n",
    "            stdn[m,:,:] = np.nanmean(ds['stdn'][-20:,:,:].values,axis=0)\n",
    "            glac[m,:,:] = np.nanmean(ds['glac'][-20:,:,:].values,axis=0)            \n",
    "            gsmb[m,:,:] = np.nanmean(ds['gsmb'][-20:,:,:].values,axis=0)            \n",
    "            asmb[m,:,:] = np.nanmean(ds['asmb'][-20:,:,:].values,axis=0)            \n",
    "            adyn[m,:,:] = np.nanmean(ds['adyn'][-20:,:,:].values,axis=0)\n",
    "            \n",
    "    return stdn,glac,gsmb,asmb,adyn"
   ]
  },
  {
   "cell_type": "code",
   "execution_count": 5,
   "metadata": {},
   "outputs": [],
   "source": [
    "def calc_corr(var1,var2):\n",
    "    corr = np.zeros((len(lat),len(lon)))\n",
    "    cov  = np.zeros((len(lat),len(lon)))\n",
    "    \n",
    "    for j in range(len(lat)):\n",
    "        for i in range(len(lon)):\n",
    "            corr[j,i] = st.spearmanr(var1[:,j,i],var2[:,j,i])[0]\n",
    "            sig1 = np.nanstd(var1[:,j,i])\n",
    "            sig2 = np.nanstd(var2[:,j,i])\n",
    "            cov[j,i] = 2*corr[j,i]*sig1*sig2\n",
    "\n",
    "    vslr = np.nanvar(stdn+glac+gsmb+asmb+adyn,axis=0)\n",
    "    rcov = 100.*cov/vslr #Relative to ensemble variance in percent\n",
    "            \n",
    "    corr[np.isnan(slr_md)] = np.nan\n",
    "    rcov[np.isnan(slr_md)] = np.nan\n",
    "    print('got one')\n",
    "    return corr,rcov"
   ]
  },
  {
   "cell_type": "code",
   "execution_count": 6,
   "metadata": {},
   "outputs": [
    {
     "name": "stderr",
     "output_type": "stream",
     "text": [
      "/Users/erwin/miniconda2/envs/codep/lib/python3.6/site-packages/ipykernel_launcher.py:11: RuntimeWarning: Mean of empty slice\n",
      "  # This is added back by InteractiveShellApp.init_path()\n",
      "/Users/erwin/miniconda2/envs/codep/lib/python3.6/site-packages/ipykernel_launcher.py:12: RuntimeWarning: Mean of empty slice\n",
      "  if sys.path[0] == '':\n",
      "/Users/erwin/miniconda2/envs/codep/lib/python3.6/site-packages/ipykernel_launcher.py:13: RuntimeWarning: Mean of empty slice\n",
      "  del sys.path[0]\n",
      "/Users/erwin/miniconda2/envs/codep/lib/python3.6/site-packages/ipykernel_launcher.py:14: RuntimeWarning: Mean of empty slice\n",
      "  \n",
      "/Users/erwin/miniconda2/envs/codep/lib/python3.6/site-packages/ipykernel_launcher.py:15: RuntimeWarning: Mean of empty slice\n",
      "  from ipykernel import kernelapp as app\n",
      "/Users/erwin/miniconda2/envs/codep/lib/python3.6/site-packages/numpy/lib/nanfunctions.py:1667: RuntimeWarning: Degrees of freedom <= 0 for slice.\n",
      "  keepdims=keepdims)\n",
      "/Users/erwin/miniconda2/envs/codep/lib/python3.6/site-packages/ipykernel_launcher.py:12: RuntimeWarning: Degrees of freedom <= 0 for slice.\n",
      "  if sys.path[0] == '':\n"
     ]
    },
    {
     "name": "stdout",
     "output_type": "stream",
     "text": [
      "got one\n",
      "got one\n",
      "got one\n",
      "got one\n",
      "got one\n",
      "got one\n",
      "got one\n",
      "got one\n",
      "got one\n",
      "got one\n",
      "Saved rcp45\n",
      "got one\n",
      "got one\n",
      "got one\n",
      "got one\n",
      "got one\n",
      "got one\n",
      "got one\n",
      "got one\n",
      "got one\n",
      "got one\n",
      "Saved rcp85\n"
     ]
    }
   ],
   "source": [
    "for scen in ['rcp45','rcp85']:\n",
    "    \n",
    "    stdn,glac,gsmb,asmb,adyn = get_vars(scen)\n",
    "\n",
    "    stdnglac,stdnglac3 = calc_corr(stdn,glac)\n",
    "    stdngsmb,stdngsmb3 = calc_corr(stdn,gsmb)\n",
    "    stdnasmb,stdnasmb3 = calc_corr(stdn,asmb)\n",
    "    stdnadyn,stdnadyn3 = calc_corr(stdn,adyn)\n",
    "    glacgsmb,glacgsmb3 = calc_corr(glac,gsmb)\n",
    "    glacasmb,glacasmb3 = calc_corr(glac,asmb)\n",
    "    glacadyn,glacadyn3 = calc_corr(glac,adyn)\n",
    "    gsmbasmb,gsmbasmb3 = calc_corr(gsmb,asmb)\n",
    "    gsmbadyn,gsmbadyn3 = calc_corr(gsmb,adyn)\n",
    "    asmbadyn,asmbadyn3 = calc_corr(asmb,adyn)\n",
    "\n",
    "    #Save\n",
    "    stdnglac2 = xr.DataArray(stdnglac,dims=('lat','lon'),coords={'lat':lat,'lon':lon})\n",
    "    stdngsmb2 = xr.DataArray(stdngsmb,dims=('lat','lon'),coords={'lat':lat,'lon':lon})\n",
    "    stdnasmb2 = xr.DataArray(stdnasmb,dims=('lat','lon'),coords={'lat':lat,'lon':lon})\n",
    "    stdnadyn2 = xr.DataArray(stdnadyn,dims=('lat','lon'),coords={'lat':lat,'lon':lon})\n",
    "    glacgsmb2 = xr.DataArray(glacgsmb,dims=('lat','lon'),coords={'lat':lat,'lon':lon})\n",
    "    glacasmb2 = xr.DataArray(glacasmb,dims=('lat','lon'),coords={'lat':lat,'lon':lon})\n",
    "    glacadyn2 = xr.DataArray(glacadyn,dims=('lat','lon'),coords={'lat':lat,'lon':lon})\n",
    "    gsmbasmb2 = xr.DataArray(gsmbasmb,dims=('lat','lon'),coords={'lat':lat,'lon':lon})    \n",
    "    gsmbadyn2 = xr.DataArray(gsmbadyn,dims=('lat','lon'),coords={'lat':lat,'lon':lon})\n",
    "    asmbadyn2 = xr.DataArray(asmbadyn,dims=('lat','lon'),coords={'lat':lat,'lon':lon})\n",
    "    \n",
    "    ds = xr.Dataset({'stdn_glac':stdnglac2,'stdn_gsmb':stdngsmb2,'stdn_asmb':stdnasmb2,'stdn_adyn':stdnadyn2,'glac_gsmb':glacgsmb2,'glac_asmb':glacasmb2,'glac_adyn':glacadyn2,'gsmb_asmb':gsmbasmb2,'gsmb_adyn':gsmbadyn2,'asmb_adyn':asmbadyn2})\n",
    "    ds.to_netcdf(f'../data/climcorr_{scen}.nc')\n",
    "    ds.close()\n",
    "    \n",
    "    stdnglac2 = xr.DataArray(stdnglac3,dims=('lat','lon'),coords={'lat':lat,'lon':lon})\n",
    "    stdngsmb2 = xr.DataArray(stdngsmb3,dims=('lat','lon'),coords={'lat':lat,'lon':lon})\n",
    "    stdnasmb2 = xr.DataArray(stdnasmb3,dims=('lat','lon'),coords={'lat':lat,'lon':lon})\n",
    "    stdnadyn2 = xr.DataArray(stdnadyn3,dims=('lat','lon'),coords={'lat':lat,'lon':lon})\n",
    "    glacgsmb2 = xr.DataArray(glacgsmb3,dims=('lat','lon'),coords={'lat':lat,'lon':lon})\n",
    "    glacasmb2 = xr.DataArray(glacasmb3,dims=('lat','lon'),coords={'lat':lat,'lon':lon})\n",
    "    glacadyn2 = xr.DataArray(glacadyn3,dims=('lat','lon'),coords={'lat':lat,'lon':lon})\n",
    "    gsmbasmb2 = xr.DataArray(gsmbasmb3,dims=('lat','lon'),coords={'lat':lat,'lon':lon})    \n",
    "    gsmbadyn2 = xr.DataArray(gsmbadyn3,dims=('lat','lon'),coords={'lat':lat,'lon':lon})\n",
    "    asmbadyn2 = xr.DataArray(asmbadyn3,dims=('lat','lon'),coords={'lat':lat,'lon':lon})\n",
    "    \n",
    "    ds = xr.Dataset({'stdn_glac':stdnglac2,'stdn_gsmb':stdngsmb2,'stdn_asmb':stdnasmb2,'stdn_adyn':stdnadyn2,'glac_gsmb':glacgsmb2,'glac_asmb':glacasmb2,'glac_adyn':glacadyn2,'gsmb_asmb':gsmbasmb2,'gsmb_adyn':gsmbadyn2,'asmb_adyn':asmbadyn2})\n",
    "    ds.to_netcdf(f'../data/climrcov_{scen}.nc')\n",
    "    ds.close()\n",
    "    print('Saved',scen)"
   ]
  },
  {
   "cell_type": "code",
   "execution_count": null,
   "metadata": {},
   "outputs": [],
   "source": []
  }
 ],
 "metadata": {
  "kernelspec": {
   "display_name": "Python 3",
   "language": "python",
   "name": "python3"
  },
  "language_info": {
   "codemirror_mode": {
    "name": "ipython",
    "version": 3
   },
   "file_extension": ".py",
   "mimetype": "text/x-python",
   "name": "python",
   "nbconvert_exporter": "python",
   "pygments_lexer": "ipython3",
   "version": "3.6.10"
  }
 },
 "nbformat": 4,
 "nbformat_minor": 4
}
