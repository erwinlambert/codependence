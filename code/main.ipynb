{
 "cells": [
  {
   "cell_type": "code",
   "execution_count": 1,
   "metadata": {},
   "outputs": [],
   "source": [
    "import xarray as xr\n",
    "import numpy as np\n",
    "import functions as fun\n",
    "import scipy.stats as st\n",
    "import matplotlib.pyplot as plt"
   ]
  },
  {
   "cell_type": "code",
   "execution_count": 2,
   "metadata": {},
   "outputs": [],
   "source": [
    "#mods = fun.models()\n",
    "mods = ['bcc-csm1-1','CanESM2','CCSM4','CNRM-CM5','CSIRO-Mk3-6-0','GFDL-CM3','GISS-E2-R','HadGEM2-ES','inmcm4','IPSL-CM5A-LR','MIROC-ESM','MIROC5','MRI-CGCM3','NorESM1-M']"
   ]
  },
  {
   "cell_type": "code",
   "execution_count": 3,
   "metadata": {},
   "outputs": [],
   "source": [
    "N = 500\n",
    "scen = 'rcp85'"
   ]
  },
  {
   "cell_type": "code",
   "execution_count": 4,
   "metadata": {},
   "outputs": [],
   "source": [
    "#Get 1x1 degree grid\n",
    "with xr.open_dataset('../rawdata/rsl_85_2090.nc') as ds:\n",
    "    lon = ds['x'].values\n",
    "    lat = ds['y'].values\n",
    "    mask = ds['slr_md'].values\n",
    "\n",
    "#Get fingerprints\n",
    "with xr.open_dataset(f'../data/fingerprints.nc') as ds:\n",
    "    fp_a = ds['fp_a'].values\n",
    "    fp_ea = ds['fp_ea'].values\n",
    "    fp_wa = ds['fp_wa'].values\n",
    "    fp_gr = ds['fp_gr'].values\n",
    "    fp_gl = ds['fp_gl'].values"
   ]
  },
  {
   "cell_type": "code",
   "execution_count": 5,
   "metadata": {},
   "outputs": [
    {
     "name": "stderr",
     "output_type": "stream",
     "text": [
      "/Users/erwin/miniconda2/envs/codep/lib/python3.6/site-packages/ipykernel_launcher.py:14: RuntimeWarning: Mean of empty slice\n",
      "  \n"
     ]
    }
   ],
   "source": [
    "#Sterodynamic\n",
    "gstdn = np.zeros(len(mods))\n",
    "rstdn = np.zeros((len(mods),len(lat),len(lon)))\n",
    "\n",
    "for m,model in enumerate(mods):\n",
    "    #Get steric expansion    \n",
    "    with xr.open_dataset(f'../data/steric/{model}_{scen}.nc') as ds:\n",
    "        slr = ds['SLR'].values\n",
    "        gstdn[m] = np.nanmean(slr[-20:])\n",
    "\n",
    "    #Get zos\n",
    "    with xr.open_dataset(f'../rawdata/zos/CorrectedZOS_EXP{scen}_{model}.nc') as ds:\n",
    "        slr = ds['CorrectedZOS_reg'].values\n",
    "        rstdn[m,:,:] = np.nanmean(slr[-20:,:,:],axis=0) + gstdn[m]\n",
    "        rstdn[m,:,:][np.isnan(mask)] = np.nan"
   ]
  },
  {
   "cell_type": "code",
   "execution_count": 6,
   "metadata": {},
   "outputs": [],
   "source": [
    "#Glaciers\n",
    "gglac = np.zeros((len(mods),N))\n",
    "rglac = np.zeros((len(mods),len(lat),len(lon)))\n",
    "\n",
    "for m,model in enumerate(mods):\n",
    "    #Get global\n",
    "    with xr.open_dataset(f'../data/glacier/{model}_{scen}.nc') as ds:\n",
    "        slr = ds['SLR'].values\n",
    "        gglac[m,:] = np.nanmean(slr[-20:])\n",
    "    #Get regional\n",
    "    for r in range(1,20):\n",
    "        with xr.open_dataset(f'../data/glacier/{model}_{scen}_{r}.nc') as ds:\n",
    "            slr = np.nanmean(ds['SLR'][-20:].values,axis=0)\n",
    "            rglac[m,:,:] += slr*fp_gl[r-1,:,:]    \n",
    "\n",
    "#Add process variance to global\n",
    "std = np.nanstd(gglac)\n",
    "gglac += np.random.normal(loc=0,scale=std,size=(len(mods),N))"
   ]
  },
  {
   "cell_type": "code",
   "execution_count": 7,
   "metadata": {},
   "outputs": [],
   "source": [
    "#Greenland SMB\n",
    "ggsmb = np.zeros((len(mods),N))\n",
    "rgsmb = np.zeros((len(mods),N,len(lat),len(lon)))\n",
    "\n",
    "for m,model in enumerate(mods):\n",
    "\n",
    "    with xr.open_dataset(f'../rawdata/Gsmb_vars/{model}_{scen}.nc') as ds:\n",
    "        TA = ds['TA'].values\n",
    "        SF = ds['SF'].values\n",
    "        years = ds['time'].values\n",
    "    TA = TA[years<2101]\n",
    "    SF = SF[years<2101]\n",
    "    years = years[years<2101]            \n",
    "\n",
    "    MW  = 84.2*TA + 2.4*TA**2. + 1.6*TA**3.\n",
    "    SMB = SF-MW\n",
    "\n",
    "    #Uncertainty following AR5\n",
    "    F = np.exp(np.random.normal(loc=0.0, scale=0.4, size=N))\n",
    "    E = np.random.uniform(1,1.15,size=N)\n",
    "    for n in range(N):\n",
    "        SLR = -np.cumsum(E[n]*F[n]*SMB)*2.8e-4 #in cm\n",
    "        SLR = fun.detrend(SLR,np.array([]),years) #Reference to ref period\n",
    "        ggsmb[m,n] = np.nanmean(SLR[-20:])\n",
    "        rgsmb[m,n,:,:] = ggsmb[m,n]*fp_gr"
   ]
  },
  {
   "cell_type": "code",
   "execution_count": 8,
   "metadata": {},
   "outputs": [],
   "source": [
    "#Antarctic SMB\n",
    "gasmb = np.zeros((len(mods),N))\n",
    "rasmb = np.zeros((len(mods),N,len(lat),len(lon)))\n",
    "\n",
    "for m,model in enumerate(mods):\n",
    "\n",
    "    with xr.open_dataset(f'../rawdata/Asmb_vars/{model}_{scen}.nc') as ds:\n",
    "        TA = ds['TA'].values\n",
    "        years = ds['time'].values\n",
    "\n",
    "    TA = TA[years<2101]\n",
    "    years = years[years<2101]\n",
    "    #Uncertainty following AR5\n",
    "    P = np.random.normal(loc=0.051, scale = 0.015,size=N)\n",
    "    S = np.random.uniform(0,0.035,size=N)\n",
    "    for n in range(N):\n",
    "        SMB = 1923*P[n]*(1-S[n])*TA\n",
    "        SMB[years<1995]=0\n",
    "        SLR = -np.cumsum(SMB)*2.8e-4 #in cm\n",
    "        gasmb[m,n] = np.nanmean(SLR[-20:])\n",
    "        rasmb[m,n,:,:] = gasmb[m,n]*fp_a\n"
   ]
  },
  {
   "cell_type": "code",
   "execution_count": 9,
   "metadata": {},
   "outputs": [],
   "source": [
    "#Antarctic dynamics\n",
    "gadyn = np.zeros((len(mods),N))\n",
    "radyn = np.zeros((len(mods),N,len(lat),len(lon)))\n",
    "\n",
    "basin = ['eais','wedd','amun','ross','apen']\n",
    "imods = ['AISM_VUB','BISI_LBL','CISM_NCA','FETI_VUB','GRIS_LSC','IMAU_VUB','ISSM_JPL','ISSM_UCI','MALI_LAN','PISM_AWI','PISM_DMI','PISM_PIK','PISM_VUW','PS3D_PSU','SICO_UHO','UA_UNN']\n",
    "\n",
    "R = np.zeros((len(imods),len(basin),200))\n",
    "for b,bb in enumerate(range(1,6)):\n",
    "    for i,imod in enumerate(imods):\n",
    "        with open(f'../rawdata/Larmip2019-master/RFunctions/RF_{imod}_BM08_R{bb}.dat') as f:\n",
    "            R[i,b,:] = np.array([float(x) for x in f.readlines()])\n",
    "            \n",
    "for m,model in enumerate(mods):  \n",
    "\n",
    "    with xr.open_dataset(f'../rawdata/Adyn_temp/{model}_{scen}.nc') as ds:\n",
    "        TH = ds['TH'].values\n",
    "        years = ds['time'].values\n",
    "\n",
    "    #Uncertainty following Levermann et al 2020\n",
    "    bms = np.random.uniform(7,16,N)\n",
    "    ii  = np.random.randint(len(imods), size=N)\n",
    "\n",
    "    for n in range(N):   \n",
    "        for b,bb in enumerate(range(1,6)):\n",
    "            SLR = np.zeros(len(years))\n",
    "            for t,tt in enumerate(years):\n",
    "                if t==0: continue\n",
    "                SLR[t] = bms[n]*100*np.sum(TH[b,:t][::-1]*R[ii[n],b,:t])\n",
    "            SLR = fun.detrend(SLR,np.array([]),years)\n",
    "            gadyn[m,n] += np.nanmean(SLR[-20:])\n",
    "            if b in [0,1,3]:\n",
    "                radyn[m,n,:,:] += np.nanmean(SLR[-20:])*fp_ea\n",
    "            else:\n",
    "                radyn[m,n,:,:] += np.nanmean(SLR[-20:])*fp_wa"
   ]
  },
  {
   "cell_type": "code",
   "execution_count": 10,
   "metadata": {},
   "outputs": [
    {
     "name": "stdout",
     "output_type": "stream",
     "text": [
      "bcc-csm1-1      & 24 & 20 & 3 & -4 & 3 & 46 \\ \n",
      "CanESM2         & 29 & 23 & 9 & -6 & 9 & 64 \\ \n",
      "CCSM4           & 28 & 20 & 1 & -5 & 13 & 56 \\ \n",
      "CNRM-CM5        & 20 & 20 & 3 & -5 & 15 & 53 \\ \n",
      "CSIRO-Mk3-6-0   & 28 & 15 & 5 & -5 & 5 & 48 \\ \n",
      "GFDL-CM3        & 36 & 26 & 15 & -3 & 9 & 83 \\ \n",
      "GISS-E2-R       & 28 & 15 & 4 & -3 & 9 & 52 \\ \n",
      "HadGEM2-ES      & 26 & 25 & 8 & -6 & 10 & 64 \\ \n",
      "inmcm4          & 23 & 10 & 1 & -4 & 11 & 42 \\ \n",
      "IPSL-CM5A-LR    & 27 & 22 & 8 & -4 & 6 & 59 \\ \n",
      "MIROC-ESM       & 34 & 23 & 13 & -5 & 5 & 69 \\ \n",
      "MIROC5          & 28 & 22 & 8 & -3 & 10 & 65 \\ \n",
      "MRI-CGCM3       & 21 & 16 & 3 & -4 & 7 & 43 \\ \n",
      "NorESM1-M       & 28 & 20 & 4 & -3 & 10 & 59 \\ \n",
      "Multi-model mean & 27 & 20 & 6 & -4 & 9 & 57 \\ \n",
      "\n",
      "Variance (cm$^2$) & 17 & 18 & 17 & 1 & 10 & 120\n"
     ]
    }
   ],
   "source": [
    "#Table 2 values\n",
    "mstdn = np.zeros(len(mods))\n",
    "mglac = np.zeros(len(mods))\n",
    "mgsmb = np.zeros(len(mods))\n",
    "masmb = np.zeros(len(mods))\n",
    "madyn = np.zeros(len(mods))\n",
    "for m,model in enumerate(mods):\n",
    "    mstdn[m] = gstdn[m]\n",
    "    mglac[m] = np.median(gglac[m,:])\n",
    "    mgsmb[m] = np.median(ggsmb[m,:])\n",
    "    masmb[m] = np.median(gasmb[m,:])\n",
    "    madyn[m] = np.median(gadyn[m,:])\n",
    "\n",
    "    print(f\"{model:15} & {mstdn[m]:.0f} & {mglac[m]:.0f} & {mgsmb[m]:.0f} & {masmb[m]:.0f} & {madyn[m]:.0f} & {(mstdn[m]+mglac[m]+mgsmb[m]+masmb[m]+madyn[m]):.0f} \\ \")\n",
    "print(f\"Multi-model mean & {np.mean(mstdn):.0f} & {np.mean(mglac):.0f} & {np.mean(mgsmb):.0f} & {np.mean(masmb):.0f} & {np.mean(madyn):.0f} & {np.mean(mstdn+mglac+mgsmb+masmb+madyn):.0f} \\ \")\n",
    "print(f'')\n",
    "print(f\"Variance (cm$^2$) & {np.var(mstdn):.0f} & {np.var(mglac):.0f} & {np.var(mgsmb):.0f} & {np.var(masmb):.0f} & {np.var(madyn):.0f} & {np.var(mstdn+mglac+mgsmb+masmb+madyn):.0f}\")\n"
   ]
  },
  {
   "cell_type": "code",
   "execution_count": 11,
   "metadata": {},
   "outputs": [
    {
     "name": "stderr",
     "output_type": "stream",
     "text": [
      "/Users/erwin/miniconda2/envs/codep/lib/python3.6/site-packages/numpy/lib/nanfunctions.py:1116: RuntimeWarning: All-NaN slice encountered\n",
      "  overwrite_input=overwrite_input)\n"
     ]
    }
   ],
   "source": [
    "#Save rsl ensemble\n",
    "slr = np.nanmedian(np.repeat(rstdn[:,np.newaxis,:,:],N,axis=1)+np.repeat(rglac[:,np.newaxis,:,:],N,axis=1)+rgsmb+rasmb+radyn,axis=1)\n",
    "\n",
    "slr2 = xr.DataArray(slr,dims=('model','lat','lon'),coords={'model':mods,'lat':lat,'lon':lon})\n",
    "ds = xr.Dataset({'slr':slr2})\n",
    "ds.to_netcdf(f'../data/ensemble_rsl_{scen}.nc')"
   ]
  },
  {
   "cell_type": "code",
   "execution_count": 12,
   "metadata": {},
   "outputs": [
    {
     "name": "stderr",
     "output_type": "stream",
     "text": [
      "/Users/erwin/miniconda2/envs/codep/lib/python3.6/site-packages/ipykernel_launcher.py:2: RuntimeWarning: Degrees of freedom <= 0 for slice.\n",
      "  \n",
      "/Users/erwin/miniconda2/envs/codep/lib/python3.6/site-packages/ipykernel_launcher.py:3: RuntimeWarning: Degrees of freedom <= 0 for slice.\n",
      "  This is separate from the ipykernel package so we can avoid doing imports until\n",
      "/Users/erwin/miniconda2/envs/codep/lib/python3.6/site-packages/ipykernel_launcher.py:4: RuntimeWarning: Degrees of freedom <= 0 for slice.\n",
      "  after removing the cwd from sys.path.\n",
      "/Users/erwin/miniconda2/envs/codep/lib/python3.6/site-packages/ipykernel_launcher.py:5: RuntimeWarning: Degrees of freedom <= 0 for slice.\n",
      "  \"\"\"\n",
      "/Users/erwin/miniconda2/envs/codep/lib/python3.6/site-packages/ipykernel_launcher.py:6: RuntimeWarning: Degrees of freedom <= 0 for slice.\n",
      "  \n",
      "/Users/erwin/miniconda2/envs/codep/lib/python3.6/site-packages/ipykernel_launcher.py:7: RuntimeWarning: Degrees of freedom <= 0 for slice.\n",
      "  import sys\n"
     ]
    }
   ],
   "source": [
    "#Save regional climate variance\n",
    "vstdn = np.nanvar(rstdn,axis=0)\n",
    "vglac = np.nanvar(rglac,axis=0)\n",
    "vgsmb = np.nanvar(np.nanmedian(rgsmb,axis=1),axis=0)\n",
    "vasmb = np.nanvar(np.nanmedian(rasmb,axis=1),axis=0)\n",
    "vadyn = np.nanvar(np.nanmedian(radyn,axis=1),axis=0)\n",
    "vslr = np.nanvar(rstdn+rglac+np.nanmedian(rgsmb,axis=1)+np.nanmedian(rasmb,axis=1)+np.nanmedian(radyn,axis=1),axis=0)\n",
    "vres = vslr-vstdn-vglac-vgsmb-vasmb-vadyn\n",
    "\n",
    "vstdn2 = xr.DataArray(vstdn,dims=('lat','lon'),coords={'lat':lat,'lon':lon})\n",
    "vglac2 = xr.DataArray(vglac,dims=('lat','lon'),coords={'lat':lat,'lon':lon})\n",
    "vgsmb2 = xr.DataArray(vgsmb,dims=('lat','lon'),coords={'lat':lat,'lon':lon})\n",
    "vasmb2 = xr.DataArray(vasmb,dims=('lat','lon'),coords={'lat':lat,'lon':lon})\n",
    "vadyn2 = xr.DataArray(vadyn,dims=('lat','lon'),coords={'lat':lat,'lon':lon})\n",
    "vres2 = xr.DataArray(vres,dims=('lat','lon'),coords={'lat':lat,'lon':lon})\n",
    "vslr2 = xr.DataArray(vslr,dims=('lat','lon'),coords={'lat':lat,'lon':lon})\n",
    "\n",
    "ds = xr.Dataset({'slr':vslr2,'stdn':vstdn2,'glac':vglac2,'gsmb':vgsmb2,'asmb':vasmb2,'adyn':vadyn2,'res':vres2})\n",
    "ds.to_netcdf(f'../data/climvar_{scen}.nc')"
   ]
  },
  {
   "cell_type": "code",
   "execution_count": null,
   "metadata": {},
   "outputs": [],
   "source": [
    "#Save climate correlations"
   ]
  },
  {
   "cell_type": "code",
   "execution_count": null,
   "metadata": {},
   "outputs": [],
   "source": [
    "#Save climate covariance"
   ]
  },
  {
   "cell_type": "code",
   "execution_count": null,
   "metadata": {},
   "outputs": [],
   "source": [
    "#Save total correlations global"
   ]
  },
  {
   "cell_type": "code",
   "execution_count": null,
   "metadata": {},
   "outputs": [],
   "source": [
    "#Save total correlations regional"
   ]
  },
  {
   "cell_type": "code",
   "execution_count": null,
   "metadata": {},
   "outputs": [],
   "source": [
    "#Save total variance components"
   ]
  }
 ],
 "metadata": {
  "kernelspec": {
   "display_name": "Python 3",
   "language": "python",
   "name": "python3"
  },
  "language_info": {
   "codemirror_mode": {
    "name": "ipython",
    "version": 3
   },
   "file_extension": ".py",
   "mimetype": "text/x-python",
   "name": "python",
   "nbconvert_exporter": "python",
   "pygments_lexer": "ipython3",
   "version": "3.6.10"
  }
 },
 "nbformat": 4,
 "nbformat_minor": 4
}
