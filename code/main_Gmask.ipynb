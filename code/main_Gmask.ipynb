{
 "cells": [
  {
   "cell_type": "code",
   "execution_count": 4,
   "metadata": {},
   "outputs": [],
   "source": [
    "import numpy as np\n",
    "import xarray as xr\n",
    "import matplotlib.pyplot as plt\n",
    "import functions as fun\n",
    "sourcedir = '/Volumes/My Passport/cmip5/cmip5'"
   ]
  },
  {
   "cell_type": "code",
   "execution_count": 5,
   "metadata": {},
   "outputs": [],
   "source": [
    "def Gmask(model):\n",
    "    print(model)\n",
    "    try:\n",
    "        with xr.open_dataset(f'{sourcedir}/fx/sftgif/{model}/r0i0p0/sftgif_fx_{model}_historical_r0i0p0.nc') as ds:\n",
    "            lon = ds['lon'].values\n",
    "            lat = ds['lat'].values\n",
    "            sft = ds['sftgif'].values\n",
    "    except:\n",
    "        with xr.open_dataset(f'{sourcedir}/fx/sftlf/{model}/r0i0p0/sftlf_fx_{model}_historical_r0i0p0.nc') as ds:\n",
    "            lon = ds['lon'].values\n",
    "            lat = ds['lat'].values\n",
    "            sft = ds['sftlf'].values        \n",
    "    lon[lon<0] = lon[lon<0]+360\n",
    "    lons,lats = np.meshgrid(lon,lat)\n",
    "    mask = np.ones(sft.shape)\n",
    "    mask[lons<289] = 0\n",
    "    mask[lons>350] = 0\n",
    "    mask[lats<56] = 0\n",
    "    mask[np.logical_and(lons<303,lats<72)] = 0\n",
    "    mask[np.logical_and(lons>333,lats<66)] = 0\n",
    "    mask[np.logical_and(lons<292,lats>80)] = 0\n",
    "    mask[np.logical_and(lons<297,lats>82)] = 0\n",
    "    mask = mask*sft/np.max(sft)\n",
    "\n",
    "    with xr.open_dataset(f'{sourcedir}/fx/orog/{model}/r0i0p0/orog_fx_{model}_historical_r0i0p0.nc') as ds:\n",
    "        orog = ds['orog'].values\n",
    "\n",
    "    mask2 = np.ones(orog.shape)\n",
    "    mask2[lons<290] = 0\n",
    "    mask2[lons>340] = 0\n",
    "    mask2[lats<60] = 0\n",
    "    mask2[lats>85] = 0\n",
    "    mask2[orog<1000] = 0.\n",
    "\n",
    "    fig,ax = plt.subplots(1,2)\n",
    "    ax[0].pcolor(lons,lats,mask,cmap=plt.get_cmap('Blues_r'))\n",
    "    ax[1].pcolor(lons,lats,mask2,cmap=plt.get_cmap('Blues_r'))\n",
    "    for Ax in ax:\n",
    "        Ax.set_xlim([270,355])\n",
    "        Ax.set_ylim([50,90])\n",
    "    plt.savefig(f'figures/Gmask/{model}.png')\n",
    "    plt.close()\n",
    "    \n",
    "    msk  = xr.DataArray(mask, dims=('lat','lon'),coords={'lat':lat,'lon':lon})\n",
    "    msk2 = xr.DataArray(mask2,dims=('lat','lon'),coords={'lat':lat,'lon':lon})    \n",
    "    \n",
    "    ds = xr.Dataset({'mask':msk,'mask2':msk2})\n",
    "    ds.to_netcdf(f'data/Gmask/{model}.nc')\n",
    "    ds.close()"
   ]
  },
  {
   "cell_type": "code",
   "execution_count": 6,
   "metadata": {},
   "outputs": [
    {
     "name": "stdout",
     "output_type": "stream",
     "text": [
      "bcc-csm1-1\n",
      "CanESM2\n",
      "CCSM4\n",
      "CNRM-CM5\n",
      "CSIRO-Mk3-6-0\n",
      "GFDL-CM3\n",
      "GISS-E2-R\n",
      "HadGEM2-ES\n",
      "inmcm4\n",
      "IPSL-CM5A-LR\n",
      "MIROC-ESM\n",
      "MIROC5\n",
      "MPI-ESM-LR\n",
      "MRI-CGCM3\n",
      "NorESM1-M\n"
     ]
    }
   ],
   "source": [
    "mods = fun.models()\n",
    "for model in mods:\n",
    "    Gmask(model)"
   ]
  },
  {
   "cell_type": "code",
   "execution_count": null,
   "metadata": {},
   "outputs": [],
   "source": []
  }
 ],
 "metadata": {
  "kernelspec": {
   "display_name": "Python 3",
   "language": "python",
   "name": "python3"
  },
  "language_info": {
   "codemirror_mode": {
    "name": "ipython",
    "version": 3
   },
   "file_extension": ".py",
   "mimetype": "text/x-python",
   "name": "python",
   "nbconvert_exporter": "python",
   "pygments_lexer": "ipython3",
   "version": "3.6.10"
  }
 },
 "nbformat": 4,
 "nbformat_minor": 4
}
