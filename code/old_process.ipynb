{
 "cells": [
  {
   "cell_type": "code",
   "execution_count": 1,
   "metadata": {},
   "outputs": [],
   "source": [
    "import os,sys,glob\n",
    "import numpy as np\n",
    "import xarray as xr\n",
    "import matplotlib.pyplot as plt\n",
    "import scipy.stats as st\n",
    "import functions as fun"
   ]
  },
  {
   "cell_type": "code",
   "execution_count": 2,
   "metadata": {},
   "outputs": [],
   "source": [
    "scens = ['rcp45','rcp85']"
   ]
  },
  {
   "cell_type": "code",
   "execution_count": 3,
   "metadata": {},
   "outputs": [],
   "source": [
    "#Fingerprints\n",
    "\n",
    "#Get 1x1 degree grid\n",
    "with xr.open_dataset('../rawdata/rsl_85_2090.nc') as ds:\n",
    "    lon = ds['x'].values\n",
    "    lat = ds['y'].values\n",
    "    slr_md = ds['slr_md'].values\n",
    "\n",
    "with xr.open_dataset('../rawdata/fp_uniform/AIS.nc') as ds:\n",
    "    lon05  = ds['x'].values\n",
    "    lat05  = ds['y'].values\n",
    "    fp05_a = ds['rsl'].values\n",
    "\n",
    "with xr.open_dataset('../rawdata/fp_uniform/GrIS.nc') as ds:\n",
    "    fp05_gr = ds['rsl'].values\n",
    "    \n",
    "#Convert to 1x1 degree grid\n",
    "fp_a  = np.zeros((len(lat),len(lon)))\n",
    "fp_gr = np.zeros((len(lat),len(lon)))\n",
    "\n",
    "for i,ii in enumerate(lat):\n",
    "    ig = np.argmin((ii-lat05)**2)\n",
    "    for j,jj in enumerate(lon):\n",
    "        jg = np.argmin((jj-lon05)**2)\n",
    "        fp_a[i,j] = fp05_a[ig,jg]\n",
    "        fp_gr[i,j] = fp05_gr[ig,jg]"
   ]
  },
  {
   "cell_type": "code",
   "execution_count": 4,
   "metadata": {},
   "outputs": [],
   "source": [
    "#Adyn from script\n",
    "\n",
    "adyn = np.zeros((2,len(lat),len(lon)))\n",
    "adyn[0,:,:] = 4.3 * np.abs(fp_a)\n",
    "adyn[1,:,:] = 6.0 * np.abs(fp_a)\n",
    "for s in [0,1]:\n",
    "    adyn[s,:,:][np.isnan(slr_md)]=np.nan"
   ]
  },
  {
   "cell_type": "code",
   "execution_count": 5,
   "metadata": {},
   "outputs": [],
   "source": [
    "#Gsmb from script to be made\n",
    "\n",
    "gsmb = np.zeros((2,len(lat),len(lon)))\n",
    "gsmb[0,:,:] = 2 * np.abs(fp_gr)\n",
    "gsmb[1,:,:] = 3 * np.abs(fp_gr)\n",
    "for s in [0,1]:\n",
    "    gsmb[s,:,:][np.isnan(slr_md)]=np.nan"
   ]
  },
  {
   "cell_type": "code",
   "execution_count": 6,
   "metadata": {},
   "outputs": [],
   "source": [
    "#Asmb from script to be made\n",
    "\n",
    "asmb = np.zeros((2,len(lat),len(lon)))\n",
    "asmb[0,:,:] = 2 * np.abs(fp_a)\n",
    "asmb[1,:,:] = 3 * np.abs(fp_a)\n",
    "for s in [0,1]:\n",
    "    asmb[s,:,:][np.isnan(slr_md)]=np.nan"
   ]
  },
  {
   "cell_type": "code",
   "execution_count": 7,
   "metadata": {},
   "outputs": [
    {
     "name": "stderr",
     "output_type": "stream",
     "text": [
      "/Users/erwin/miniconda2/envs/codep/lib/python3.6/site-packages/ipykernel_launcher.py:7: RuntimeWarning: Mean of empty slice\n",
      "  import sys\n",
      "/Users/erwin/miniconda2/envs/codep/lib/python3.6/site-packages/ipykernel_launcher.py:8: RuntimeWarning: Mean of empty slice\n",
      "  \n",
      "/Users/erwin/miniconda2/envs/codep/lib/python3.6/site-packages/ipykernel_launcher.py:9: RuntimeWarning: Mean of empty slice\n",
      "  if __name__ == '__main__':\n",
      "/Users/erwin/miniconda2/envs/codep/lib/python3.6/site-packages/ipykernel_launcher.py:10: RuntimeWarning: Mean of empty slice\n",
      "  # Remove the CWD from sys.path while we load stuff.\n",
      "/Users/erwin/miniconda2/envs/codep/lib/python3.6/site-packages/ipykernel_launcher.py:12: RuntimeWarning: Mean of empty slice\n",
      "  if sys.path[0] == '':\n",
      "/Users/erwin/miniconda2/envs/codep/lib/python3.6/site-packages/ipykernel_launcher.py:20: RuntimeWarning: Mean of empty slice\n",
      "/Users/erwin/miniconda2/envs/codep/lib/python3.6/site-packages/ipykernel_launcher.py:21: RuntimeWarning: Mean of empty slice\n"
     ]
    }
   ],
   "source": [
    "#LWS, GIA\n",
    "\n",
    "gdyn = np.zeros((2,len(lat),len(lon)))\n",
    "lws = np.zeros((2,len(lat),len(lon)))\n",
    "gia = np.zeros((2,len(lat),len(lon)))\n",
    "with xr.open_dataset('../rawdata/component-ts-slr-45.nc') as ds:\n",
    "    gdyn_h = 100.*np.nanmean(ds['greendyn_h'].values[-20:,:,:],axis=0)\n",
    "    gdyn_l = 100.*np.nanmean(ds['greendyn_l'].values[-20:,:,:],axis=0)\n",
    "    lws_h  = 100.*np.nanmean(ds['grw_h'].values[-20:,:,:],axis=0)\n",
    "    lws_l  = 100.*np.nanmean(ds['grw_l'].values[-20:,:,:],axis=0)\n",
    "    for s in [0,1]:\n",
    "        gia[s,:,:] = 100.*np.nanmean(ds['gia_sd'].values[-20:,:,:],axis=0)\n",
    "        gia[s,:,:][np.isnan(slr_md)] = np.nan\n",
    "        \n",
    "gdyn[0,:,:] = np.abs(gdyn_h-gdyn_l)/(2*1.645)\n",
    "lws[0,:,:] = np.abs(lws_h-lws_l)/(2*1.645)\n",
    "lws[1,:,:] = np.abs(lws_h-lws_l)/(2*1.645)\n",
    "\n",
    "with xr.open_dataset('../rawdata/component-ts-slr-85.nc') as ds:\n",
    "    gdyn_h = 100.*np.nanmean(ds['greendyn_h'].values[-20:,:,:],axis=0)\n",
    "    gdyn_l = 100.*np.nanmean(ds['greendyn_l'].values[-20:,:,:],axis=0)\n",
    "\n",
    "gdyn[1,:,:] = np.abs(gdyn_h-gdyn_l)/(2*1.645)"
   ]
  },
  {
   "cell_type": "code",
   "execution_count": 8,
   "metadata": {},
   "outputs": [
    {
     "name": "stderr",
     "output_type": "stream",
     "text": [
      "/Users/erwin/miniconda2/envs/codep/lib/python3.6/site-packages/ipykernel_launcher.py:11: RuntimeWarning: Mean of empty slice\n",
      "  # This is added back by InteractiveShellApp.init_path()\n"
     ]
    }
   ],
   "source": [
    "#glac\n",
    "\n",
    "mods = ['bcc-csm1-1','CanESM2','CCSM4','CNRM-CM5','CSIRO-Mk3-6-0','GFDL-CM3','GISS-E2-R','HadGEM2-ES','inmcm4','IPSL-CM5A-LR','MIROC-ESM','MIROC5','MRI-CGCM3','NorESM1-M']\n",
    "\n",
    "glac = np.zeros((2,len(lat),len(lon)))\n",
    "\n",
    "gglac = np.zeros((len(mods),len(lat),len(lon)))\n",
    "for s,scen in enumerate(scens):\n",
    "    for m,model in enumerate(mods):\n",
    "        with xr.open_dataset(f'../data/rsl/{model}_{scen}.nc') as ds:\n",
    "            gglac[m,:,:] = np.nanmean(ds['glac'][-20:,:,:].values,axis=0)  \n",
    "\n",
    "    glac[s,:,:] = np.std(gglac,axis=0)       "
   ]
  },
  {
   "cell_type": "code",
   "execution_count": 9,
   "metadata": {},
   "outputs": [],
   "source": [
    "#save\n",
    "\n",
    "#Save\n",
    "glac2 = xr.DataArray(glac,dims=('scen','lat','lon'),coords={'scen':scens,'lat':lat,'lon':lon})\n",
    "gsmb2 = xr.DataArray(gsmb,dims=('scen','lat','lon'),coords={'scen':scens,'lat':lat,'lon':lon})\n",
    "gdyn2 = xr.DataArray(gdyn,dims=('scen','lat','lon'),coords={'scen':scens,'lat':lat,'lon':lon})\n",
    "asmb2 = xr.DataArray(asmb,dims=('scen','lat','lon'),coords={'scen':scens,'lat':lat,'lon':lon})\n",
    "adyn2 = xr.DataArray(adyn,dims=('scen','lat','lon'),coords={'scen':scens,'lat':lat,'lon':lon})\n",
    "gia2  = xr.DataArray(gia,dims=('scen','lat','lon'),coords={'scen':scens,'lat':lat,'lon':lon})\n",
    "lws2  = xr.DataArray(lws,dims=('scen','lat','lon'),coords={'scen':scens,'lat':lat,'lon':lon})\n",
    "ds = xr.Dataset({'glac':glac2,'gsmb':gsmb2,'gdyn':gdyn2,'asmb':asmb2,'adyn':adyn2,'gia':gia2,'lws':lws2})\n",
    "ds.to_netcdf(f'../data/sig_process.nc',)\n",
    "ds.close()"
   ]
  },
  {
   "cell_type": "code",
   "execution_count": null,
   "metadata": {},
   "outputs": [],
   "source": []
  }
 ],
 "metadata": {
  "kernelspec": {
   "display_name": "Python 3",
   "language": "python",
   "name": "python3"
  },
  "language_info": {
   "codemirror_mode": {
    "name": "ipython",
    "version": 3
   },
   "file_extension": ".py",
   "mimetype": "text/x-python",
   "name": "python",
   "nbconvert_exporter": "python",
   "pygments_lexer": "ipython3",
   "version": "3.6.10"
  }
 },
 "nbformat": 4,
 "nbformat_minor": 4
}
