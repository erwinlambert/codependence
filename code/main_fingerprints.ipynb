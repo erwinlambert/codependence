{
 "cells": [
  {
   "cell_type": "code",
   "execution_count": 1,
   "metadata": {},
   "outputs": [],
   "source": [
    "import os,sys\n",
    "import xarray as xr\n",
    "import numpy as np"
   ]
  },
  {
   "cell_type": "code",
   "execution_count": 2,
   "metadata": {},
   "outputs": [],
   "source": [
    "#Get 1x1 degree grid\n",
    "with xr.open_dataset('../rawdata/rsl_85_2090.nc') as ds:\n",
    "    lon = ds['x'].values\n",
    "    lat = ds['y'].values\n",
    "    slr_md = ds['slr_md'].values\n",
    "\n",
    "#Get fingerprints\n",
    "with xr.open_dataset('../rawdata/fp_uniform/AIS.nc') as ds:\n",
    "    lon05  = ds['x'].values\n",
    "    lat05  = ds['y'].values\n",
    "    fp05_a = ds['rsl'].values\n",
    "with xr.open_dataset('../rawdata/fp_uniform/GrIS.nc') as ds:\n",
    "    fp05_gr = ds['rsl'].values\n",
    "fp05_gl = np.zeros((19,len(lat05),len(lon05)))\n",
    "for r in range(1,20):\n",
    "    with xr.open_dataset(f'../rawdata/fp_uniform/RGI_{r}.nc') as ds:\n",
    "        fp05_gl[r-1,:,:] = ds['rsl'].values\n",
    "\n",
    "#Convert to 1x1 degree grid\n",
    "fp_a  = np.zeros((len(lat),len(lon)))\n",
    "fp_gr = np.zeros((len(lat),len(lon)))\n",
    "fp_gl = np.zeros((19,len(lat),len(lon)))\n",
    "\n",
    "for i,ii in enumerate(lat):\n",
    "    ig = np.argmin((ii-lat05)**2)\n",
    "    for j,jj in enumerate(lon):\n",
    "        jg = np.argmin((jj-lon05)**2)\n",
    "        fp_a[i,j] = fp05_a[ig,jg]\n",
    "        fp_gr[i,j] = fp05_gr[ig,jg]\n",
    "        fp_gl[:,i,j] = fp05_gl[:,ig,jg]\n",
    "\n",
    "fp_a[np.isnan(slr_md)] = np.nan\n",
    "fp_gr[np.isnan(slr_md)] = np.nan\n",
    "fp_gl[:,np.isnan(slr_md)] = np.nan"
   ]
  },
  {
   "cell_type": "code",
   "execution_count": 4,
   "metadata": {},
   "outputs": [],
   "source": [
    "#Save\n",
    "fp_a2 = xr.DataArray(fp_a,dims=('lat','lon'),coords={'lat':lat,'lon':lon})\n",
    "fp_gr2 = xr.DataArray(fp_gr,dims=('lat','lon'),coords={'lat':lat,'lon':lon})\n",
    "fp_gl2 = xr.DataArray(fp_gl,dims=('region','lat','lon'),coords={'region':np.arange(19),'lat':lat,'lon':lon})\n",
    "\n",
    "ds = xr.Dataset({'fp_a':fp_a2,'fp_gr':fp_gr2,'fp_gl':fp_gl2})\n",
    "ds.to_netcdf(f'../data/fingerprints.nc')\n",
    "ds.close()"
   ]
  },
  {
   "cell_type": "code",
   "execution_count": null,
   "metadata": {},
   "outputs": [],
   "source": []
  }
 ],
 "metadata": {
  "kernelspec": {
   "display_name": "Python 3",
   "language": "python",
   "name": "python3"
  },
  "language_info": {
   "codemirror_mode": {
    "name": "ipython",
    "version": 3
   },
   "file_extension": ".py",
   "mimetype": "text/x-python",
   "name": "python",
   "nbconvert_exporter": "python",
   "pygments_lexer": "ipython3",
   "version": "3.6.10"
  }
 },
 "nbformat": 4,
 "nbformat_minor": 4
}
