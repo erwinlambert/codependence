{
 "cells": [
  {
   "cell_type": "code",
   "execution_count": 1,
   "metadata": {},
   "outputs": [],
   "source": [
    "import os,sys\n",
    "import xarray as xr\n",
    "import numpy as np\n",
    "import functions as fun"
   ]
  },
  {
   "cell_type": "code",
   "execution_count": 2,
   "metadata": {},
   "outputs": [],
   "source": [
    "#Load grid and fingerprints\n",
    "with xr.open_dataset('../data/fingerprints.nc') as ds:\n",
    "    lon = ds['lon'].values\n",
    "    lat = ds['lat'].values\n",
    "    fp_a = ds['fp_a'].values\n",
    "    fp_gr = ds['fp_gr'].values\n",
    "    fp_gl = ds['fp_gl'].values\n"
   ]
  },
  {
   "cell_type": "code",
   "execution_count": 3,
   "metadata": {},
   "outputs": [],
   "source": [
    "def rsl(model,scen):\n",
    "    #Get ocean dynamics\n",
    "    with xr.open_dataset(f'../rawdata/zos_hist/CorrectedZOS_EXPrcp85_{model}.nc') as ds:\n",
    "        ds = ds.sel(time=slice(1901,2100))\n",
    "        odyn = ds['CorrectedZOS_reg'].values\n",
    "        time = ds['time'].values\n",
    "\n",
    "    with xr.open_dataset(f'../rawdata/zos/CorrectedZOS_EXP{scen}_{model}.nc') as ds:\n",
    "        odyn = np.append(odyn,ds['CorrectedZOS_reg'].values,axis=0)\n",
    "        time = np.append(time,ds['time'].values)\n",
    "        \n",
    "    #Add steric expansion    \n",
    "    with xr.open_dataset(f'../data/steric/{model}_{scen}.nc') as ds:\n",
    "        ds = ds.sel(time_lt=slice(1901,2100))\n",
    "        slr = ds['SLR_lt'].values\n",
    "    ster = slr[:,np.newaxis,np.newaxis]*np.ones((len(time),len(lat),len(lon)))\n",
    "    ster[:,np.isnan(fp_a)] = np.nan\n",
    "    \n",
    "    #Add Antarctic dynamics\n",
    "    with xr.open_dataset(f'../data/Adyn/{model}_{scen}.nc') as ds:\n",
    "        ds = ds.sel(time_lt=slice(1901,2100))\n",
    "        slr = ds['SLR_lt'].values\n",
    "    adyn = slr[:,np.newaxis,np.newaxis]*fp_a[np.newaxis,:,:]\n",
    "    \n",
    "    with xr.open_dataset(f'../data/Asmb/{model}_{scen}.nc') as ds:  \n",
    "        ds = ds.sel(time_lt=slice(1901,2100))\n",
    "        slr = ds['SLR_lt'].values\n",
    "    asmb = slr[:,np.newaxis,np.newaxis]*fp_a[np.newaxis,:,:]\n",
    "    \n",
    "    #Add Greenland smb\n",
    "    with xr.open_dataset(f'../data/Gsmb/{model}_{scen}.nc') as ds:  \n",
    "        ds = ds.sel(time_lt=slice(1901,2100))\n",
    "        slr = ds['SLR_lt'].values\n",
    "    gsmb = slr[:,np.newaxis,np.newaxis]*fp_gr[np.newaxis,:,:]\n",
    "    \n",
    "    #Add glaciers\n",
    "    for r in range(1,20):\n",
    "        with xr.open_dataset(f'../data/glacier/{model}_{scen}_{r}.nc') as ds:\n",
    "            ds = ds.sel(time_lt=slice(1901,2100))\n",
    "            slr = ds['SLR_lt'].values\n",
    "        if r==1:\n",
    "            glac = slr[:,np.newaxis,np.newaxis]*fp_gl[r-1,:,:]\n",
    "        else:\n",
    "            glac += slr[:,np.newaxis,np.newaxis]*fp_gl[r-1,:,:]\n",
    "\n",
    "    #Add others\n",
    "    with xr.open_dataset(f'../data/others/gdyn_{scen}.nc') as ds:\n",
    "        gdyn = ds['SLR_lt'].values\n",
    "    with xr.open_dataset(f'../data/others/grw.nc') as ds:\n",
    "        grw = ds['SLR_lt'].values    \n",
    "    with xr.open_dataset(f'../data/others/gia.nc') as ds:\n",
    "        gia = ds['SLR_lt'].values\n",
    "    \n",
    "    #Get total rsl in cm\n",
    "    slr = odyn+ster+adyn+asmb+gsmb+glac+gdyn+grw+gia\n",
    "    \n",
    "    #Save\n",
    "    slr2 = xr.DataArray(slr,dims=('time','lat','lon'),coords={'time':time,'lat':lat,'lon':lon})\n",
    "    ds = xr.Dataset({'SLR':slr2})\n",
    "    ds.to_netcdf(f'../data/totalrsl/{model}_{scen}.nc',encoding={'SLR':{'zlib': True, 'complevel': 9}})\n",
    "    ds.close()\n",
    "    \n",
    "    print(scen,model,'Saved rsl')"
   ]
  },
  {
   "cell_type": "code",
   "execution_count": 4,
   "metadata": {},
   "outputs": [
    {
     "name": "stdout",
     "output_type": "stream",
     "text": [
      "rcp45 bcc-csm1-1 Saved rsl\n",
      "rcp85 bcc-csm1-1 Saved rsl\n",
      "rcp45 CanESM2 Saved rsl\n",
      "rcp85 CanESM2 Saved rsl\n",
      "rcp45 CCSM4 Saved rsl\n",
      "rcp85 CCSM4 Saved rsl\n",
      "rcp45 CNRM-CM5 Saved rsl\n",
      "rcp85 CNRM-CM5 Saved rsl\n",
      "rcp45 CSIRO-Mk3-6-0 Saved rsl\n",
      "rcp85 CSIRO-Mk3-6-0 Saved rsl\n",
      "rcp45 GFDL-CM3 Saved rsl\n",
      "rcp85 GFDL-CM3 Saved rsl\n",
      "rcp45 GISS-E2-R Saved rsl\n",
      "rcp85 GISS-E2-R Saved rsl\n",
      "rcp45 HadGEM2-ES Saved rsl\n",
      "rcp85 HadGEM2-ES Saved rsl\n",
      "rcp45 inmcm4 Saved rsl\n",
      "rcp85 inmcm4 Saved rsl\n",
      "rcp45 IPSL-CM5A-LR Saved rsl\n",
      "rcp85 IPSL-CM5A-LR Saved rsl\n",
      "rcp45 MIROC-ESM Saved rsl\n",
      "rcp85 MIROC-ESM Saved rsl\n",
      "rcp45 MIROC5 Saved rsl\n",
      "rcp85 MIROC5 Saved rsl\n",
      "rcp45 MPI-ESM-LR Saved rsl\n",
      "rcp85 MPI-ESM-LR Saved rsl\n",
      "rcp45 MRI-CGCM3 Saved rsl\n",
      "rcp85 MRI-CGCM3 Saved rsl\n",
      "rcp45 NorESM1-M Saved rsl\n",
      "rcp85 NorESM1-M Saved rsl\n"
     ]
    }
   ],
   "source": [
    "mods = fun.models()\n",
    "mods = ['bcc-csm1-1','CanESM2','CCSM4','CNRM-CM5','CSIRO-Mk3-6-0','GFDL-CM3','GISS-E2-R','HadGEM2-ES','inmcm4','IPSL-CM5A-LR','MIROC-ESM','MIROC5','MPI-ESM-LR','MRI-CGCM3','NorESM1-M']\n",
    "for model in mods:\n",
    "    for scen in ['rcp45','rcp85']:\n",
    "        rsl(model,scen) "
   ]
  },
  {
   "cell_type": "code",
   "execution_count": null,
   "metadata": {},
   "outputs": [],
   "source": []
  },
  {
   "cell_type": "code",
   "execution_count": null,
   "metadata": {},
   "outputs": [],
   "source": []
  },
  {
   "cell_type": "code",
   "execution_count": null,
   "metadata": {},
   "outputs": [],
   "source": []
  }
 ],
 "metadata": {
  "kernelspec": {
   "display_name": "Python 3",
   "language": "python",
   "name": "python3"
  },
  "language_info": {
   "codemirror_mode": {
    "name": "ipython",
    "version": 3
   },
   "file_extension": ".py",
   "mimetype": "text/x-python",
   "name": "python",
   "nbconvert_exporter": "python",
   "pygments_lexer": "ipython3",
   "version": "3.6.10"
  }
 },
 "nbformat": 4,
 "nbformat_minor": 4
}
