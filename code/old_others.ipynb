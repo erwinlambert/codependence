{
 "cells": [
  {
   "cell_type": "code",
   "execution_count": 1,
   "metadata": {},
   "outputs": [],
   "source": [
    "import os,sys\n",
    "import xarray as xr\n",
    "import numpy as np\n",
    "import matplotlib.pyplot as plt\n",
    "import functions as fun"
   ]
  },
  {
   "cell_type": "markdown",
   "metadata": {},
   "source": [
    "Load AR5 data"
   ]
  },
  {
   "cell_type": "code",
   "execution_count": 2,
   "metadata": {},
   "outputs": [],
   "source": [
    "gdyn = {}\n",
    "time = np.arange(2007,2101)\n",
    "time_lt = np.arange(1901,2101)\n",
    "with xr.open_dataset('../rawdata/component-ts-slr-45.nc') as ds:\n",
    "    lon = ds['lon'].values\n",
    "    lat = ds['lat'].values\n",
    "    gia = ds['gia_m'].values\n",
    "    grw = ds['grw_m'].values\n",
    "    gdyn['rcp45'] = ds['greendyn_m'].values\n",
    "with xr.open_dataset('../rawdata/component-ts-slr-85.nc') as ds:\n",
    "    gdyn['rcp85'] = ds['greendyn_m'].values"
   ]
  },
  {
   "cell_type": "markdown",
   "metadata": {},
   "source": [
    "GIA"
   ]
  },
  {
   "cell_type": "code",
   "execution_count": 3,
   "metadata": {},
   "outputs": [],
   "source": [
    "#Annual change in cm\n",
    "dgia = 100.*(gia[1,:,:]-gia[0,:,:])\n",
    "\n",
    "#Create longterm field relative to 1996\n",
    "gia_lt = np.zeros((len(time_lt),gia.shape[1],gia.shape[2]))\n",
    "for t,tt in enumerate(time_lt):\n",
    "    gia_lt[t,:,:]= dgia*(tt-1996)\n",
    "\n",
    "#Save\n",
    "slr2 = xr.DataArray(gia_lt,dims=('time_lt','lat','lon'),coords={'time_lt':time_lt,'lat':lat,'lon':lon})\n",
    "ds = xr.Dataset({'SLR_lt':slr2})\n",
    "ds.to_netcdf(f'../data/others/gia.nc',encoding={'SLR_lt':{'zlib': True, 'complevel': 9}})\n",
    "ds.close()"
   ]
  },
  {
   "cell_type": "markdown",
   "metadata": {},
   "source": [
    "Greenland dynamics"
   ]
  },
  {
   "cell_type": "code",
   "execution_count": 4,
   "metadata": {},
   "outputs": [],
   "source": [
    "for scen in ['rcp45','rcp85']:\n",
    "    #Projections in cm\n",
    "    gd = 100.*gdyn[scen]\n",
    "\n",
    "    #Boundary conditions for connect in 2007\n",
    "    ddt = gd[1,:,:]-gd[0,:,:] #Rate\n",
    "    dg = gd[0,:,:] #Value\n",
    "    \n",
    "    #third-order connect 1996-2007\n",
    "    startyear = 1996\n",
    "    dt = 2007-startyear\n",
    "    tt = np.arange(dt)\n",
    "    c = 3*dg/(dt**2)-ddt/dt\n",
    "    d = ddt/(dt**2) - 2*dg/(dt**3)\n",
    "    \n",
    "    #Fill three time periods: zero, third-order, projection\n",
    "    gdyn_lt = np.zeros((len(time_lt),gia.shape[1],gia.shape[2]))\n",
    "    gdyn_lt[startyear-1901:startyear-1901+dt,:,:] = c[np.newaxis,:,:]*tt[:,np.newaxis,np.newaxis]**2 + d[np.newaxis,:,:]*tt[:,np.newaxis,np.newaxis]**3\n",
    "    gdyn_lt[startyear-1901+dt:,:,:] = gd\n",
    "    \n",
    "    #Save\n",
    "    slr2 = xr.DataArray(gdyn_lt,dims=('time_lt','lat','lon'),coords={'time_lt':time_lt,'lat':lat,'lon':lon})\n",
    "    ds = xr.Dataset({'SLR_lt':slr2})\n",
    "    ds.to_netcdf(f'../data/others/gdyn_{scen}.nc',encoding={'SLR_lt':{'zlib': True, 'complevel': 9}})\n",
    "    ds.close()"
   ]
  },
  {
   "cell_type": "markdown",
   "metadata": {},
   "source": [
    "Groundwater"
   ]
  },
  {
   "cell_type": "code",
   "execution_count": 5,
   "metadata": {},
   "outputs": [],
   "source": [
    "#Projections in cm\n",
    "gr = 100.*grw\n",
    "\n",
    "#Increase 2007-2008\n",
    "ddt = gr[1,:,:]-gr[0,:,:]\n",
    "dg = gr[0,:,:]\n",
    "\n",
    "#Acceleration 1996-2007\n",
    "startyear = 1996\n",
    "dt = 2007-startyear\n",
    "tt = np.arange(dt)\n",
    "\n",
    "c = 3*dg/(dt**2)-ddt/dt\n",
    "d = ddt/(dt**2) - 2*dg/(dt**3)\n",
    "\n",
    "#Fill three time periods: zero, accel, projection\n",
    "grw_lt = np.zeros((len(time_lt),gia.shape[1],gia.shape[2]))\n",
    "grw_lt[startyear-1901:startyear-1901+dt,:,:] = c[np.newaxis,:,:]*tt[:,np.newaxis,np.newaxis]**2 + d[np.newaxis,:,:]*tt[:,np.newaxis,np.newaxis]**3\n",
    "grw_lt[startyear-1901+dt:,:,:] = gr\n",
    "\n",
    "#Save\n",
    "slr2 = xr.DataArray(grw_lt,dims=('time_lt','lat','lon'),coords={'time_lt':time_lt,'lat':lat,'lon':lon})\n",
    "ds = xr.Dataset({'SLR_lt':slr2})\n",
    "ds.to_netcdf(f'../data/others/grw.nc',encoding={'SLR_lt':{'zlib': True, 'complevel': 9}})\n",
    "ds.close()"
   ]
  },
  {
   "cell_type": "code",
   "execution_count": null,
   "metadata": {},
   "outputs": [],
   "source": []
  },
  {
   "cell_type": "code",
   "execution_count": null,
   "metadata": {},
   "outputs": [],
   "source": []
  }
 ],
 "metadata": {
  "kernelspec": {
   "display_name": "Python 3",
   "language": "python",
   "name": "python3"
  },
  "language_info": {
   "codemirror_mode": {
    "name": "ipython",
    "version": 3
   },
   "file_extension": ".py",
   "mimetype": "text/x-python",
   "name": "python",
   "nbconvert_exporter": "python",
   "pygments_lexer": "ipython3",
   "version": "3.6.10"
  }
 },
 "nbformat": 4,
 "nbformat_minor": 4
}
