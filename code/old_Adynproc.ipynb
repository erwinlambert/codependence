{
 "cells": [
  {
   "cell_type": "code",
   "execution_count": 1,
   "metadata": {},
   "outputs": [],
   "source": [
    "import os,sys,glob\n",
    "import numpy as np\n",
    "import xarray as xr\n",
    "import matplotlib.pyplot as plt\n",
    "import scipy.stats as st\n",
    "import functions as fun"
   ]
  },
  {
   "cell_type": "code",
   "execution_count": 2,
   "metadata": {},
   "outputs": [],
   "source": [
    "basin = ['eais','wedd','amun','ross']\n",
    "imods = ['AISM_VUB','BISI_LBL','CISM_NCA','FETI_VUB','GRIS_LSC','IMAU_VUB','ISSM_JPL','ISSM_UCI','MALI_LAN','PISM_AWI','PISM_DMI','PISM_PIK','PISM_VUW','PS3D_PSU','SICO_UHO','UA_UNN']"
   ]
  },
  {
   "cell_type": "code",
   "execution_count": 3,
   "metadata": {},
   "outputs": [],
   "source": [
    "N = 20000 #20000"
   ]
  },
  {
   "cell_type": "code",
   "execution_count": 4,
   "metadata": {},
   "outputs": [],
   "source": [
    "def calcSLR(TH,years,N):\n",
    "    bms = np.random.uniform(7,16,N)\n",
    "    ii  = np.random.randint(len(imods), size=N)\n",
    "    SLRens = np.zeros((N,TH.shape[0],TH.shape[1]))\n",
    "    for n in range(N):   \n",
    "        for b,bb in enumerate(range(1,5)):\n",
    "            with open(f'../rawdata/Larmip2019-master/RFunctions/RF_{imods[ii[n]]}_BM08_R{bb}.dat') as f:\n",
    "                R = np.array([float(x) for x in f.readlines()])\n",
    "            for t,tt in enumerate(years):\n",
    "                if t==0: continue\n",
    "                SLRens[n,b,t] = bms[n]*100*np.sum(TH[b,:t][::-1]*R[:t])\n",
    "            SLRens[n,b,:] = fun.detrend(SLRens[n,b,:],np.array([]),years)\n",
    "    SLR = np.sum(SLRens,axis=1)\n",
    "    return SLR"
   ]
  },
  {
   "cell_type": "code",
   "execution_count": 5,
   "metadata": {},
   "outputs": [
    {
     "name": "stdout",
     "output_type": "stream",
     "text": [
      "rcp45 bcc-csm1-1 1.8383270503140041\n",
      "rcp45 CanESM2 4.3441091969617815\n",
      "rcp45 CCSM4 6.321348187419336\n",
      "rcp45 CNRM-CM5 6.527048774677246\n",
      "rcp45 CSIRO-Mk3-6-0 3.0439429009061842\n",
      "rcp45 GFDL-CM3 4.365925398507543\n",
      "rcp45 GISS-E2-R 5.093127584906455\n",
      "rcp45 HadGEM2-ES 3.975100794540447\n",
      "rcp45 inmcm4 5.611920762843823\n",
      "rcp45 IPSL-CM5A-LR 4.046193268702261\n",
      "rcp45 MIROC-ESM 2.597623463346581\n",
      "rcp45 MIROC5 4.013671767932357\n",
      "rcp45 MPI-ESM-LR 5.380538460155298\n",
      "rcp45 MRI-CGCM3 2.9149614988623704\n",
      "rcp45 NorESM1-M 5.106848211317646\n",
      "---------------\n",
      "rcp45 4.345379154759556\n",
      "---------------\n",
      "rcp85 bcc-csm1-1 1.94904138550167\n",
      "rcp85 CanESM2 6.8603425498121435\n",
      "rcp85 CCSM4 7.318572675846197\n",
      "rcp85 CNRM-CM5 9.140996341734358\n",
      "rcp85 CSIRO-Mk3-6-0 4.013237601574417\n",
      "rcp85 GFDL-CM3 7.5793706827573875\n",
      "rcp85 GISS-E2-R 7.266524985672345\n",
      "rcp85 HadGEM2-ES 6.821868384017686\n",
      "rcp85 inmcm4 6.704833676087224\n",
      "rcp85 IPSL-CM5A-LR 4.2279087181859785\n",
      "rcp85 MIROC-ESM 3.4341570493644356\n",
      "rcp85 MIROC5 6.109857200763656\n",
      "rcp85 MPI-ESM-LR 7.440037292926121\n",
      "rcp85 MRI-CGCM3 4.965846999377081\n",
      "rcp85 NorESM1-M 6.131119698926585\n",
      "---------------\n",
      "rcp85 5.997581016169819\n",
      "---------------\n"
     ]
    }
   ],
   "source": [
    "mods = fun.models()\n",
    "for scen in ['rcp45','rcp85']:\n",
    "    sig = np.zeros(len(mods))\n",
    "    for m,model in enumerate(mods):\n",
    "        with xr.open_dataset(f'../rawdata/Adyn_temp/{model}_{scen}.nc') as ds:\n",
    "            TH = ds['TH'].values\n",
    "            years = ds['time'].values\n",
    "        SLR = calcSLR(TH,years,N)\n",
    "        sig[m] = np.std(np.nanmean(SLR[:,-20:],axis=1))\n",
    "        print(scen,model,sig[m])\n",
    "    print('---------------')\n",
    "    print(scen,np.mean(sig))\n",
    "    print('---------------')"
   ]
  },
  {
   "cell_type": "code",
   "execution_count": null,
   "metadata": {},
   "outputs": [],
   "source": []
  }
 ],
 "metadata": {
  "kernelspec": {
   "display_name": "Python 3",
   "language": "python",
   "name": "python3"
  },
  "language_info": {
   "codemirror_mode": {
    "name": "ipython",
    "version": 3
   },
   "file_extension": ".py",
   "mimetype": "text/x-python",
   "name": "python",
   "nbconvert_exporter": "python",
   "pygments_lexer": "ipython3",
   "version": "3.6.10"
  }
 },
 "nbformat": 4,
 "nbformat_minor": 4
}
