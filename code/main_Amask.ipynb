{
 "cells": [
  {
   "cell_type": "code",
   "execution_count": 1,
   "metadata": {},
   "outputs": [],
   "source": [
    "import glob\n",
    "import numpy as np\n",
    "import xarray as xr\n",
    "import matplotlib.pyplot as plt\n",
    "import functions as fun\n",
    "sourcedir = '/Volumes/My Passport/cmip5/cmip5'"
   ]
  },
  {
   "cell_type": "code",
   "execution_count": 2,
   "metadata": {},
   "outputs": [],
   "source": [
    "def Amasksmb(model):\n",
    "    print('smb',model)\n",
    "    with xr.open_dataset(f'{sourcedir}/fx/sftlf/{model}/r0i0p0/sftlf_fx_{model}_historical_r0i0p0.nc') as ds:\n",
    "        lon = ds['lon'].values\n",
    "        lat = ds['lat'].values\n",
    "        sft = ds['sftlf'].values    \n",
    "\n",
    "    lon[lon<0] = lon[lon<0]+360\n",
    "    lons,lats = np.meshgrid(lon,lat)\n",
    "    mask = np.ones(sft.shape)\n",
    "    mask[lats>-60] = 0\n",
    "    mask = mask*sft/np.max(sft)\n",
    "\n",
    "    mask2 = xr.DataArray(mask,dims=('lat','lon'),coords={'lat':lat,'lon':lon})\n",
    "\n",
    "    ds = xr.Dataset({'mask':mask2})    \n",
    "    ds.to_netcdf(f'data/Amasksmb/{model}.nc')\n",
    "    ds.close()\n",
    "\n",
    "    fig,ax = plt.subplots(1,1)\n",
    "    ax.pcolor(lons,lats,mask,cmap=plt.get_cmap('Blues_r'))\n",
    "    plt.savefig(f'figures/Amasksmb/{model}.png')\n",
    "    plt.close()"
   ]
  },
  {
   "cell_type": "code",
   "execution_count": 3,
   "metadata": {},
   "outputs": [],
   "source": [
    "def Amaskdyn(model):\n",
    "    print('dyn',model)\n",
    "    with xr.open_dataset(f'{sourcedir}/fx/sftof/{model}/r0i0p0/sftof_fx_{model}_historical_r0i0p0.nc') as ds:\n",
    "        lon = ds['lon'].values\n",
    "        lat = ds['lat'].values\n",
    "        sft = ds['sftof'].values \n",
    "    \n",
    "    lon[lon<0] = lon[lon<0]+360\n",
    "    \n",
    "    if len(lon.shape)==1:\n",
    "        lon,lat = np.meshgrid(lon,lat)       \n",
    "        \n",
    "    with xr.open_dataset(f'{sourcedir}/fx/deptho/{model}/r0i0p0/deptho_fx_{model}_historical_r0i0p0.nc') as ds:\n",
    "        dep = ds['deptho'].values\n",
    "        \n",
    "    files = glob.glob(f'{sourcedir}/{model}/r1i1p1/thetao_Omon_{model}_rcp85*')\n",
    "    with xr.open_dataset(files[0]) as ds:\n",
    "        lev = ds['lev_bnds'].values\n",
    "    \n",
    "    lons = np.repeat(lon[np.newaxis,:,:],len(lev),axis=0)\n",
    "    lats = np.repeat(lat[np.newaxis,:,:],len(lev),axis=0)\n",
    "\n",
    "    mask = np.repeat(np.zeros(lons.shape)[np.newaxis,:,:,:],4,axis=0)\n",
    "    basin = np.arange(0,4)\n",
    "    levs = (lev[:,0]+lev[:,1])/2.\n",
    "\n",
    "    if model == 'inmcm4':\n",
    "        lev2 = np.repeat(lev[:,:,np.newaxis],dep.shape[0],axis=2)\n",
    "        lev2 = np.repeat(lev2[:,:,:,np.newaxis],dep.shape[1],axis=3)\n",
    "        dep2 = np.repeat(dep[np.newaxis,:,:],lev.shape[0],axis=0)\n",
    "        dep2 = np.repeat(dep2[:,np.newaxis,:,:],lev.shape[1],axis=1)\n",
    "        lev3 = -dep2*lev2\n",
    "    \n",
    "    for b in range(0,4):\n",
    "        mm = np.zeros(lons.shape)\n",
    "        if b==0:\n",
    "            #EAIS\n",
    "            mm[((lons<173) | (lons>350)) & (lats<-65) & (lats>-76)] = 1\n",
    "            depp = 369\n",
    "        if b==1:\n",
    "            #WEDD\n",
    "            mm[(lons>295) & (lons<350) & (lats<-72)] = 1\n",
    "            depp = 420\n",
    "        if b==2:\n",
    "            #AMUN\n",
    "            mm[(lons>210) & (lons<295) & (lats<-70)] = 1\n",
    "            depp = 305\n",
    "        if b==3:\n",
    "            #ROSS\n",
    "            mm[((lons>150) & (lons<210)) & (lats<-76)] = 1\n",
    "            depp = 312\n",
    "\n",
    "        if model=='inmcm4':\n",
    "            mm[:,dep<depp-100.] = 0\n",
    "            for j in range(0,lon.shape[0]):\n",
    "                for i in range(0,lon.shape[1]):\n",
    "                    if mm[-1,j,i] == 0: continue\n",
    "                    i0 = np.argmax(lev3[:,1,j,i]>depp-100.)\n",
    "                    mm[:i0,j,i] = 0\n",
    "                    w0 = (lev3[i0,1,j,i]-(depp-100.))/(lev3[i0,1,j,i]-lev3[i0,0,j,i])\n",
    "                    mm[i0,j,i] = w0*mm[i0,j,i]\n",
    "                    z1 = min(dep[j,i],depp+100.)\n",
    "                    i1 = np.argmin(lev3[:,1,j,i]<z1)\n",
    "                    w1 = (z1-lev3[i1,0,j,i])/(lev3[i1,1,j,i]-lev3[i1,0,j,i])\n",
    "                    mm[i1,j,i] = w1*mm[i1,j,i]\n",
    "                    mm[i1+1:,j,i] = 0\n",
    "        else:\n",
    "            mm[:,dep<depp-100.] = 0\n",
    "            i0 = np.argmax(lev[:,1]>depp-100.)\n",
    "            mm[:i0,:,:] = 0\n",
    "            w0 = (lev[i0,1]-(depp-100.))/(lev[i0,1]-lev[i0,0])\n",
    "            mm[i0,:,:] = w0*mm[i0,:,:]\n",
    "            for j in range(0,lon.shape[0]):\n",
    "                for i in range(0,lon.shape[1]):\n",
    "                    if mm[-1,j,i]==0: continue\n",
    "                    z1 = min(dep[j,i],depp+100.)\n",
    "                    i1 = np.argmin(lev[:,1]<z1)\n",
    "                    w1 = (z1-lev[i1,0])/(lev[i1,1]-lev[i1,0])\n",
    "                    mm[i1,j,i] = w1*mm[i1,j,i]\n",
    "                    mm[i1+1:,j,i] = 0\n",
    "        mask[b,:,:,:] = mm    \n",
    "    \n",
    "    #Save\n",
    "    mask2 = xr.DataArray(mask,dims=('basin','lev','y','x'),coords={'basin':basin,'lev':levs,'y':np.arange(lat.shape[0]),'x':np.arange(lat.shape[1])})\n",
    "    lat2  = xr.DataArray(lat,dims=('y','x'),coords={'y':np.arange(lat.shape[0]),'x':np.arange(lat.shape[1])})\n",
    "    lon2  = xr.DataArray(lon,dims=('y','x'),coords={'y':np.arange(lon.shape[0]),'x':np.arange(lon.shape[1])})\n",
    "    \n",
    "    ds = xr.Dataset({'mask':mask2,'lat':lat2,'lon':lon2})\n",
    "    ds.to_netcdf(f'data/Amaskdyn/{model}.nc')\n",
    "    ds.close()\n",
    "    "
   ]
  },
  {
   "cell_type": "code",
   "execution_count": 4,
   "metadata": {},
   "outputs": [
    {
     "name": "stdout",
     "output_type": "stream",
     "text": [
      "dyn bcc-csm1-1\n"
     ]
    },
    {
     "name": "stderr",
     "output_type": "stream",
     "text": [
      "/Users/erwin/miniconda2/envs/codep/lib/python3.6/site-packages/ipykernel_launcher.py:68: RuntimeWarning: invalid value encountered in less\n"
     ]
    },
    {
     "name": "stdout",
     "output_type": "stream",
     "text": [
      "dyn CanESM2\n",
      "dyn CCSM4\n",
      "dyn CNRM-CM5\n"
     ]
    },
    {
     "name": "stderr",
     "output_type": "stream",
     "text": [
      "/Users/erwin/miniconda2/envs/codep/lib/python3.6/site-packages/ipykernel_launcher.py:68: RuntimeWarning: invalid value encountered in less\n"
     ]
    },
    {
     "name": "stdout",
     "output_type": "stream",
     "text": [
      "dyn CSIRO-Mk3-6-0\n",
      "dyn GFDL-CM3\n"
     ]
    },
    {
     "name": "stderr",
     "output_type": "stream",
     "text": [
      "/Users/erwin/miniconda2/envs/codep/lib/python3.6/site-packages/ipykernel_launcher.py:68: RuntimeWarning: invalid value encountered in less\n"
     ]
    },
    {
     "name": "stdout",
     "output_type": "stream",
     "text": [
      "dyn GISS-E2-R\n",
      "dyn HadGEM2-ES\n",
      "dyn inmcm4\n"
     ]
    },
    {
     "name": "stderr",
     "output_type": "stream",
     "text": [
      "/Users/erwin/miniconda2/envs/codep/lib/python3.6/site-packages/ipykernel_launcher.py:54: RuntimeWarning: invalid value encountered in less\n"
     ]
    },
    {
     "name": "stdout",
     "output_type": "stream",
     "text": [
      "dyn IPSL-CM5A-LR\n",
      "dyn MIROC-ESM\n",
      "dyn MIROC5\n"
     ]
    },
    {
     "name": "stderr",
     "output_type": "stream",
     "text": [
      "/Users/erwin/miniconda2/envs/codep/lib/python3.6/site-packages/ipykernel_launcher.py:68: RuntimeWarning: invalid value encountered in less\n"
     ]
    },
    {
     "name": "stdout",
     "output_type": "stream",
     "text": [
      "dyn MPI-ESM-LR\n",
      "dyn MRI-CGCM3\n",
      "dyn NorESM1-M\n"
     ]
    },
    {
     "name": "stderr",
     "output_type": "stream",
     "text": [
      "/Users/erwin/miniconda2/envs/codep/lib/python3.6/site-packages/ipykernel_launcher.py:68: RuntimeWarning: invalid value encountered in less\n"
     ]
    }
   ],
   "source": [
    "mods = fun.models()\n",
    "for model in mods:\n",
    "#    Amasksmb(model)\n",
    "    Amaskdyn(model)"
   ]
  },
  {
   "cell_type": "code",
   "execution_count": null,
   "metadata": {},
   "outputs": [],
   "source": []
  }
 ],
 "metadata": {
  "kernelspec": {
   "display_name": "Python 3",
   "language": "python",
   "name": "python3"
  },
  "language_info": {
   "codemirror_mode": {
    "name": "ipython",
    "version": 3
   },
   "file_extension": ".py",
   "mimetype": "text/x-python",
   "name": "python",
   "nbconvert_exporter": "python",
   "pygments_lexer": "ipython3",
   "version": "3.6.10"
  }
 },
 "nbformat": 4,
 "nbformat_minor": 4
}
