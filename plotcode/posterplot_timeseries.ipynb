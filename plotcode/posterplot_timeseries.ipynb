{
 "cells": [
  {
   "cell_type": "code",
   "execution_count": 1,
   "metadata": {},
   "outputs": [],
   "source": [
    "import xarray as xr\n",
    "import matplotlib as mpl\n",
    "import matplotlib.pyplot as plt"
   ]
  },
  {
   "cell_type": "code",
   "execution_count": 2,
   "metadata": {},
   "outputs": [],
   "source": [
    "mods = ['bcc-csm1-1','CanESM2','CCSM4','CSIRO-Mk3-6-0','GFDL-CM3','GISS-E2-R','HadGEM2-ES','inmcm4','IPSL-CM5A-LR','MIROC-ESM','MIROC5','MPI-ESM-LR','MRI-CGCM3','NorESM1-M']"
   ]
  },
  {
   "cell_type": "code",
   "execution_count": 40,
   "metadata": {},
   "outputs": [
    {
     "data": {
      "image/png": "[encoded data removed]",
      "text/plain": [
       "<Figure size 324x216 with 2 Axes>"
      ]
     },
     "metadata": {
      "needs_background": "dark"
     },
     "output_type": "display_data"
    }
   ],
   "source": [
    "i = 5\n",
    "j = 142\n",
    "scen = 'rcp45'\n",
    "\n",
    "mpl.rcParams['xtick.labelsize']       = 11\n",
    "mpl.rcParams['ytick.labelsize']       = 11\n",
    "mpl.rcParams['lines.linewidth']       = 2.\n",
    "mpl.rcParams['axes.labelsize']        = 11\n",
    "#mpl.rcParams['axes.labelweight']      = 'bold'\n",
    "mpl.rcParams['axes.titlesize']        = 11\n",
    "mpl.rcParams['axes.titleweight']      = 'bold'\n",
    "mpl.rcParams['figure.subplot.bottom'] = .2\n",
    "mpl.rcParams['figure.subplot.top']    = .9\n",
    "mpl.rcParams['figure.subplot.left']   = .15\n",
    "mpl.rcParams['figure.subplot.right']  = .95\n",
    "mpl.rcParams['figure.subplot.wspace'] = .25\n",
    "mpl.rcParams['figure.subplot.hspace'] = .3\n",
    "mpl.rcParams['figure.figsize']        = 4.5,3\n",
    "mpl.rcParams['savefig.transparent']   = True\n",
    "mpl.rcParams['axes.labelcolor']       = 'w'\n",
    "mpl.rcParams['xtick.color']           = 'w'\n",
    "mpl.rcParams['ytick.color']           = 'w'\n",
    "mpl.rcParams['text.color']            = 'w'\n",
    "mpl.rcParams[\"legend.frameon\"] = False\n",
    "\n",
    "fig,ax = plt.subplots(1,2,sharey=True)\n",
    "\n",
    "mshow = 6\n",
    "\n",
    "for m,model in enumerate(mods):\n",
    "    with xr.open_dataset(f'data/Adyn/{model}_{scen}.nc') as ds:\n",
    "        adyn = ds['SLR'].values\n",
    "        time = ds['time'].values\n",
    "    with xr.open_dataset(f'data/Asmb/{model}_{scen}.nc') as ds:\n",
    "        asmb = ds['SLR'].values\n",
    "    with xr.open_dataset(f'data/Gsmb/{model}_{scen}.nc') as ds:\n",
    "        gsmb = ds['SLR'].values\n",
    "    with xr.open_dataset(f'data/steric/{model}_{scen}.nc') as ds:\n",
    "        ster = ds['SLR'].values        \n",
    "    with xr.open_dataset(f'data/glacier/{model}_{scen}.nc') as ds:\n",
    "        glac = ds['SLR'].values   \n",
    "    slr = adyn+asmb+gsmb+ster+glac\n",
    "\n",
    "    if m==mshow:\n",
    "        ax[0].fill_between(time,adyn+gsmb+glac,adyn+gsmb+glac+ster,label='steric')\n",
    "        ax[0].fill_between(time,adyn+gsmb,adyn+gsmb+glac,label='glacier')\n",
    "        ax[0].fill_between(time,adyn,adyn+gsmb,label='GrSMB')\n",
    "        ax[0].fill_between(time,0,adyn,label='Ant dyn')\n",
    "        ax[0].fill_between(time,asmb,0,label='Ant SMB')          \n",
    "    \n",
    "    if m==mshow:\n",
    "        ax[0].plot(time,slr,lw=2,color='y')\n",
    "        ax[1].plot(time,slr,lw=2,color='y',label='Examble',zorder=10)\n",
    "    elif m==0:\n",
    "        ax[1].plot(time,slr,lw=1,color='w',label='ensemble')\n",
    "    else:\n",
    "        ax[1].plot(time,slr,lw=1,color='w')\n",
    "\n",
    "for Ax in ax:\n",
    "    Ax.legend()\n",
    "    Ax.set_xlim([2000,2100])\n",
    "ax[0].set_title('Example ESM')\n",
    "ax[1].set_title('Model ensemble')    \n",
    "ax[0].set_ylabel('Global mean sea level rise [cm]')\n",
    "\n",
    "plt.savefig('figures/posterplot_timeseries.pdf')\n",
    "plt.show()\n",
    "plt.close()"
   ]
  },
  {
   "cell_type": "code",
   "execution_count": null,
   "metadata": {},
   "outputs": [],
   "source": []
  }
 ],
 "metadata": {
  "kernelspec": {
   "display_name": "Python 3",
   "language": "python",
   "name": "python3"
  },
  "language_info": {
   "codemirror_mode": {
    "name": "ipython",
    "version": 3
   },
   "file_extension": ".py",
   "mimetype": "text/x-python",
   "name": "python",
   "nbconvert_exporter": "python",
   "pygments_lexer": "ipython3",
   "version": "3.6.10"
  }
 },
 "nbformat": 4,
 "nbformat_minor": 4
}
