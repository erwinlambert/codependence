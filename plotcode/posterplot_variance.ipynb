{
 "cells": [
  {
   "cell_type": "code",
   "execution_count": 2,
   "metadata": {},
   "outputs": [],
   "source": [
    "import xarray as xr\n",
    "import matplotlib as mpl\n",
    "import matplotlib.pyplot as plt\n",
    "import numpy as np\n",
    "import cartopy.crs as ccrs\n",
    "import cartopy.feature as cfeature\n",
    "import cmocean.cm as cmo\n",
    "#import functions as fun"
   ]
  },
  {
   "cell_type": "code",
   "execution_count": 3,
   "metadata": {},
   "outputs": [],
   "source": [
    "#mods = fun.models()\n",
    "mods = ['bcc-csm1-1','CanESM2','CCSM4','CNRM-CM5','CSIRO-Mk3-6-0','GFDL-CM3','GISS-E2-R','HadGEM2-ES','inmcm4','IPSL-CM5A-LR','MIROC-ESM','MIROC5','MRI-CGCM3','NorESM1-M']"
   ]
  },
  {
   "cell_type": "code",
   "execution_count": 23,
   "metadata": {},
   "outputs": [],
   "source": [
    "mpl.rcParams['xtick.labelsize']       = 12\n",
    "mpl.rcParams['ytick.labelsize']       = 12\n",
    "mpl.rcParams['lines.linewidth']       = 2.\n",
    "mpl.rcParams['axes.labelsize']        = 12\n",
    "#mpl.rcParams['axes.labelweight']      = 'bold'\n",
    "mpl.rcParams['axes.titlesize']        = 12\n",
    "mpl.rcParams['font.family']           = 'serif'\n",
    "#mpl.rcParams['axes.titleweight']      = 'bold'\n",
    "mpl.rcParams['figure.subplot.bottom'] = .15\n",
    "mpl.rcParams['figure.subplot.top']    = .99\n",
    "mpl.rcParams['figure.subplot.left']   = .05\n",
    "mpl.rcParams['figure.subplot.right']  = .95\n",
    "mpl.rcParams['figure.subplot.wspace'] = .02\n",
    "mpl.rcParams['figure.subplot.hspace'] = .0\n",
    "mpl.rcParams['figure.figsize']        = 5,3.5\n",
    "\n",
    "\n",
    "cols = {}\n",
    "cols['ocean'] = '.7'\n",
    "cols['land'] = '.9'"
   ]
  },
  {
   "cell_type": "code",
   "execution_count": 5,
   "metadata": {},
   "outputs": [],
   "source": [
    "#Get 1x1 degree grid\n",
    "with xr.open_dataset('../rawdata/rsl_85_2090.nc') as ds:\n",
    "    lon = ds['x'].values\n",
    "    lat = ds['y'].values\n",
    "    slr_md = ds['slr_md'].values\n",
    "\n",
    "#Get fingerprints\n",
    "with xr.open_dataset('../rawdata/fp_uniform/AIS.nc') as ds:\n",
    "    lon05  = ds['x'].values\n",
    "    lat05  = ds['y'].values\n",
    "    fp05_a = ds['rsl'].values\n",
    "with xr.open_dataset('../rawdata/fp_uniform/GrIS.nc') as ds:\n",
    "    fp05_gr = ds['rsl'].values\n",
    "fp05_gl = np.zeros((19,len(lat05),len(lon05)))\n",
    "for r in range(1,20):\n",
    "    with xr.open_dataset(f'../rawdata/fp_uniform/RGI_{r}.nc') as ds:\n",
    "        fp05_gl[r-1,:,:] = ds['rsl'].values\n",
    "\n",
    "#Convert to 1x1 degree grid\n",
    "fp_a  = np.zeros((len(lat),len(lon)))\n",
    "fp_gr = np.zeros((len(lat),len(lon)))\n",
    "fp_gl = np.zeros((19,len(lat),len(lon)))\n",
    "\n",
    "for i,ii in enumerate(lat):\n",
    "    ig = np.argmin((ii-lat05)**2)\n",
    "    for j,jj in enumerate(lon):\n",
    "        jg = np.argmin((jj-lon05)**2)\n",
    "        fp_a[i,j] = fp05_a[ig,jg]\n",
    "        fp_gr[i,j] = fp05_gr[ig,jg]\n",
    "        fp_gl[:,i,j] = fp05_gl[:,ig,jg]"
   ]
  },
  {
   "cell_type": "code",
   "execution_count": 6,
   "metadata": {},
   "outputs": [],
   "source": [
    "def nanvar(var):\n",
    "    vvar = np.nanvar(var,axis=0)\n",
    "    vvar[np.isnan(slr_md)]=np.nan\n",
    "    return vvar"
   ]
  },
  {
   "cell_type": "code",
   "execution_count": 7,
   "metadata": {},
   "outputs": [],
   "source": [
    "def get_var(scen):\n",
    "    with xr.open_dataset(f'../data/rsl/{mods[0]}_{scen}.nc') as ds:\n",
    "        lon = ds['lon'].values\n",
    "        lat = ds['lat'].values\n",
    "    stdn = np.zeros((len(mods),len(lat),len(lon)))\n",
    "    glac = np.zeros((len(mods),len(lat),len(lon)))\n",
    "    gsmb = np.zeros((len(mods),len(lat),len(lon)))\n",
    "    asmb = np.zeros((len(mods),len(lat),len(lon)))\n",
    "    adyn = np.zeros((len(mods),len(lat),len(lon)))\n",
    "    \n",
    "    for m,model in enumerate(mods):\n",
    "        with xr.open_dataset(f'../data/rsl/{model}_{scen}.nc') as ds:\n",
    "            stdn[m,:,:] = np.nanmean(ds['stdn'][-20:,:,:].values,axis=0)\n",
    "            glac[m,:,:] = np.nanmean(ds['glac'][-20:,:,:].values,axis=0)  \n",
    "            gsmb[m,:,:] = np.nanmean(ds['gsmb'][-20:,:,:].values,axis=0)\n",
    "            asmb[m,:,:] = np.nanmean(ds['asmb'][-20:,:,:].values,axis=0)\n",
    "            adyn[m,:,:] = np.nanmean(ds['adyn'][-20:,:,:].values,axis=0)\n",
    "            \n",
    "    vstdn = nanvar(stdn)\n",
    "    vglac = nanvar(glac)\n",
    "    vgsmb = nanvar(gsmb)\n",
    "    vasmb = nanvar(asmb)\n",
    "    vadyn = nanvar(adyn)\n",
    "    vslr = nanvar(stdn+glac+gsmb+asmb+adyn)\n",
    "    \n",
    "    return vstdn,vglac,vgsmb,vasmb,vadyn,vslr"
   ]
  },
  {
   "cell_type": "code",
   "execution_count": 8,
   "metadata": {},
   "outputs": [],
   "source": [
    "def makeglobal(ax):\n",
    "    ax.set_global()\n",
    "    ax.add_feature(cfeature.LAND,color=cols['land'])\n",
    "    ax.add_feature(cfeature.OCEAN,color=cols['ocean'])\n",
    "    ax.outline_patch.set_visible(False)"
   ]
  },
  {
   "cell_type": "code",
   "execution_count": 24,
   "metadata": {},
   "outputs": [
    {
     "name": "stderr",
     "output_type": "stream",
     "text": [
      "/Users/erwin/miniconda2/envs/codep/lib/python3.6/site-packages/ipykernel_launcher.py:13: RuntimeWarning: Mean of empty slice\n",
      "  del sys.path[0]\n",
      "/Users/erwin/miniconda2/envs/codep/lib/python3.6/site-packages/ipykernel_launcher.py:14: RuntimeWarning: Mean of empty slice\n",
      "  \n",
      "/Users/erwin/miniconda2/envs/codep/lib/python3.6/site-packages/ipykernel_launcher.py:15: RuntimeWarning: Mean of empty slice\n",
      "  from ipykernel import kernelapp as app\n",
      "/Users/erwin/miniconda2/envs/codep/lib/python3.6/site-packages/ipykernel_launcher.py:16: RuntimeWarning: Mean of empty slice\n",
      "  app.launch_new_instance()\n",
      "/Users/erwin/miniconda2/envs/codep/lib/python3.6/site-packages/ipykernel_launcher.py:17: RuntimeWarning: Mean of empty slice\n",
      "/Users/erwin/miniconda2/envs/codep/lib/python3.6/site-packages/ipykernel_launcher.py:2: RuntimeWarning: Degrees of freedom <= 0 for slice.\n",
      "  \n"
     ]
    },
    {
     "data": {
      "image/png": "[encoded data removed]",
      "text/plain": [
       "<Figure size 360x252 with 2 Axes>"
      ]
     },
     "metadata": {
      "needs_background": "light"
     },
     "output_type": "display_data"
    }
   ],
   "source": [
    "cmap = plt.get_cmap('cmo.thermal_r',16)\n",
    "cmap2 = plt.get_cmap('cmo.speed',10)\n",
    "vmax = 400\n",
    "vmax2 = 100\n",
    "\n",
    "for s,scen in enumerate(['rcp45']):\n",
    "\n",
    "    fig = plt.figure()\n",
    "    \n",
    "    vstdn,vglac,vgsmb,vasmb,vadyn,vslr = get_var(scen)\n",
    "    vres = vslr-vstdn-vglac-vgsmb-vasmb-vadyn\n",
    "    \n",
    "    ax = fig.add_subplot(1,1,1,projection=ccrs.Robinson(central_longitude=200))\n",
    "    im = ax.pcolormesh(lon,lat,vslr,transform=ccrs.PlateCarree(),vmin=0,vmax=vmax,cmap=cmap)\n",
    "#    ax.set_title('ESM ensemble')\n",
    "    makeglobal(ax)\n",
    "\n",
    "    cax = fig.add_axes([.15,.15,.7,.03])\n",
    "    cb = plt.colorbar(im,cax=cax,extend='max',orientation='horizontal')\n",
    "    cb.set_label('Variance $\\sigma^2$ (cm$^2$)')\n",
    "\n",
    "    figname = f'posterplot_variance_{scen}.png'\n",
    "\n",
    "    plt.savefig(f'../figures/{figname}',dpi=600)\n",
    "    plt.show()\n",
    "    plt.close()"
   ]
  },
  {
   "cell_type": "code",
   "execution_count": null,
   "metadata": {},
   "outputs": [],
   "source": []
  },
  {
   "cell_type": "code",
   "execution_count": null,
   "metadata": {},
   "outputs": [],
   "source": []
  }
 ],
 "metadata": {
  "kernelspec": {
   "display_name": "Python 3",
   "language": "python",
   "name": "python3"
  },
  "language_info": {
   "codemirror_mode": {
    "name": "ipython",
    "version": 3
   },
   "file_extension": ".py",
   "mimetype": "text/x-python",
   "name": "python",
   "nbconvert_exporter": "python",
   "pygments_lexer": "ipython3",
   "version": "3.6.10"
  }
 },
 "nbformat": 4,
 "nbformat_minor": 4
}
