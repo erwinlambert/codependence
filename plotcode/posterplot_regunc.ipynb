{
 "cells": [
  {
   "cell_type": "code",
   "execution_count": 34,
   "metadata": {},
   "outputs": [],
   "source": [
    "import xarray as xr\n",
    "import matplotlib as mpl\n",
    "import matplotlib.pyplot as plt\n",
    "import numpy as np\n",
    "import cartopy.crs as ccrs\n",
    "import cartopy.feature as cfeature"
   ]
  },
  {
   "cell_type": "code",
   "execution_count": 55,
   "metadata": {},
   "outputs": [],
   "source": [
    "mods = ['bcc-csm1-1','CCSM4','CSIRO-Mk3-6-0','GISS-E2-R','HadGEM2-ES','inmcm4','IPSL-CM5A-LR','MIROC-ESM','MIROC5','MPI-ESM-LR','MRI-CGCM3','NorESM1-M']"
   ]
  },
  {
   "cell_type": "code",
   "execution_count": 90,
   "metadata": {},
   "outputs": [],
   "source": [
    "mpl.rcParams['xtick.labelsize']       = 11\n",
    "mpl.rcParams['ytick.labelsize']       = 11\n",
    "mpl.rcParams['lines.linewidth']       = 2.\n",
    "mpl.rcParams['axes.labelsize']        = 11\n",
    "#mpl.rcParams['axes.labelweight']      = 'bold'\n",
    "mpl.rcParams['axes.titlesize']        = 11\n",
    "mpl.rcParams['axes.titleweight']      = 'bold'\n",
    "mpl.rcParams['figure.subplot.bottom'] = .2\n",
    "mpl.rcParams['figure.subplot.top']    = .9\n",
    "mpl.rcParams['figure.subplot.left']   = .15\n",
    "mpl.rcParams['figure.subplot.right']  = .95\n",
    "mpl.rcParams['figure.subplot.wspace'] = .15\n",
    "mpl.rcParams['figure.subplot.hspace'] = .0\n",
    "mpl.rcParams['figure.figsize']        = 7,5\n",
    "mpl.rcParams['savefig.transparent']   = True\n",
    "mpl.rcParams['axes.labelcolor']       = 'w'\n",
    "mpl.rcParams['xtick.color']           = 'w'\n",
    "mpl.rcParams['ytick.color']           = 'w'\n",
    "mpl.rcParams['text.color']            = 'w'\n",
    "mpl.rcParams[\"legend.frameon\"] = False\n",
    "\n",
    "cols = {}\n",
    "cols['ocean'] = (209/255.,229/255.,240/255.)\n",
    "cols['land'] = (245/255.,245/255.,245/255.)"
   ]
  },
  {
   "cell_type": "code",
   "execution_count": 91,
   "metadata": {},
   "outputs": [],
   "source": [
    "#Get 1x1 degree grid\n",
    "with xr.open_dataset('data/rsl_85_2090.nc') as ds:\n",
    "    lon = ds['x'].values\n",
    "    lat = ds['y'].values\n",
    "    slr_md = ds['slr_md'].values\n",
    "\n",
    "#Get fingerprints\n",
    "with xr.open_dataset('data/fp_uniform/AIS.nc') as ds:\n",
    "    lon05  = ds['x'].values\n",
    "    lat05  = ds['y'].values\n",
    "    fp05_a = ds['rsl'].values\n",
    "with xr.open_dataset('data/fp_uniform/GrIS.nc') as ds:\n",
    "    fp05_gr = ds['rsl'].values\n",
    "fp05_gl = np.zeros((19,len(lat05),len(lon05)))\n",
    "for r in range(1,20):\n",
    "    with xr.open_dataset(f'data/fp_uniform/RGI_{r}.nc') as ds:\n",
    "        fp05_gl[r-1,:,:] = ds['rsl'].values\n",
    "\n",
    "#Convert to 1x1 degree grid\n",
    "fp_a  = np.zeros((len(lat),len(lon)))\n",
    "fp_gr = np.zeros((len(lat),len(lon)))\n",
    "fp_gl = np.zeros((19,len(lat),len(lon)))\n",
    "\n",
    "for i,ii in enumerate(lat):\n",
    "    ig = np.argmin((ii-lat05)**2)\n",
    "    for j,jj in enumerate(lon):\n",
    "        jg = np.argmin((jj-lon05)**2)\n",
    "        fp_a[i,j] = fp05_a[ig,jg]\n",
    "        fp_gr[i,j] = fp05_gr[ig,jg]\n",
    "        fp_gl[:,i,j] = fp05_gl[:,ig,jg]"
   ]
  },
  {
   "cell_type": "code",
   "execution_count": 92,
   "metadata": {},
   "outputs": [],
   "source": [
    "scen = 'rcp45'\n",
    "\n"
   ]
  },
  {
   "cell_type": "code",
   "execution_count": 93,
   "metadata": {},
   "outputs": [
    {
     "name": "stderr",
     "output_type": "stream",
     "text": [
      "/Users/erwin/miniconda2/envs/codep/lib/python3.6/site-packages/ipykernel_launcher.py:8: RuntimeWarning: Mean of empty slice\n",
      "  \n",
      "/Users/erwin/miniconda2/envs/codep/lib/python3.6/site-packages/numpy/lib/nanfunctions.py:1667: RuntimeWarning: Degrees of freedom <= 0 for slice.\n",
      "  keepdims=keepdims)\n"
     ]
    }
   ],
   "source": [
    "with xr.open_dataset(f'data/rsl/{mods[0]}_{scen}.nc') as ds:\n",
    "    lon = ds['lon'].values\n",
    "    lat = ds['lat'].values\n",
    "mm = np.zeros((len(mods),len(lat),len(lon)))\n",
    "\n",
    "for m,model in enumerate(mods):\n",
    "    with xr.open_dataset(f'data/rsl/{model}_{scen}.nc') as ds:\n",
    "        mm[m,:,:] = np.nanmean(ds['SLR'][-20:,:,:].values,axis=0)\n",
    "        \n",
    "mms = np.nanstd(mm,axis=0)"
   ]
  },
  {
   "cell_type": "code",
   "execution_count": 94,
   "metadata": {},
   "outputs": [],
   "source": [
    "srocc = np.zeros((len(mods),len(lat),len(lon)))\n",
    "zos = np.zeros((len(mods),len(lat),len(lon)))\n",
    "ster = np.zeros((len(mods),len(lat),len(lon)))\n",
    "adyn = np.zeros((len(mods),len(lat),len(lon)))\n",
    "asmb = np.zeros((len(mods),len(lat),len(lon)))\n",
    "gsmb = np.zeros((len(mods),len(lat),len(lon)))\n",
    "glac = np.zeros((len(mods),len(lat),len(lon)))\n",
    "\n",
    "for m,model in enumerate(mods):\n",
    "\n",
    "    #Get zos\n",
    "    file = f'data/CorrectedZOS/CorrectedZOS_EXP{scen}_{model}.nc'\n",
    "    with xr.open_dataset(file) as ds:\n",
    "        zos[m,:,:] = ds['CorrectedZOS_reg'].values\n",
    "\n",
    "    #Add steric expansion    \n",
    "    with xr.open_dataset(f'data/steric/{model}_{scen}.nc') as ds:\n",
    "        ster[m,:,:] = np.nanmean(ds['SLR'][-20:].values)\n",
    "    \n",
    "    #Add Antarctic dyn\n",
    "    with xr.open_dataset(f'data/Adyn/{model}_{scen}.nc') as ds:\n",
    "        adyn[m,:,:] = np.nanmean(ds['SLR'][-20:].values)*fp_a\n",
    "        \n",
    "    #Add Antarctic smb\n",
    "    with xr.open_dataset(f'data/Asmb/{model}_{scen}.nc') as ds:\n",
    "        asmb[m,:,:] = np.nanmean(ds['SLR'][-20:].values)*fp_a     \n",
    "    \n",
    "    #Add Greenland smb\n",
    "    with xr.open_dataset(f'data/Gsmb/{model}_{scen}.nc') as ds:  \n",
    "        gsmb[m,:,:] = np.nanmean(ds['SLR'][-20:].values)*fp_gr\n",
    "    \n",
    "    #Add glaciers\n",
    "    for r in range(1,20):\n",
    "        with xr.open_dataset(f'data/glacier/{model}_{scen}_{r}.nc') as ds:\n",
    "            glac[m,:,:] += np.nanmean(ds['SLR'][-20:].values)*fp_gl[r-1,:,:]\n",
    "\n",
    "def sig(var):\n",
    "    return np.nanstd(var,axis=0)\n",
    "            \n",
    "srocc = ((sig(zos)+sig(ster)+sig(asmb)+sig(gsmb))**2+sig(glac)**2+sig(adyn)**2)**.5"
   ]
  },
  {
   "cell_type": "code",
   "execution_count": 97,
   "metadata": {},
   "outputs": [
    {
     "data": {
      "image/png": "[encoded data removed]",
      "text/plain": [
       "<Figure size 504x360 with 5 Axes>"
      ]
     },
     "metadata": {
      "needs_background": "dark"
     },
     "output_type": "display_data"
    }
   ],
   "source": [
    "def makeglobal(ax):\n",
    "    ax.set_global()\n",
    "    ax.add_feature(cfeature.LAND,color=cols['land'])\n",
    "    ax.add_feature(cfeature.OCEAN,color=cols['ocean'])\n",
    "    ax.outline_patch.set_visible(False)\n",
    "\n",
    "fig = plt.figure()\n",
    "\n",
    "ax = fig.add_subplot(221,projection=ccrs.Robinson())\n",
    "im = ax.pcolormesh(lon,lat,mms,transform=ccrs.PlateCarree(),vmin=0,vmax=20,cmap=plt.get_cmap('plasma',12))\n",
    "makeglobal(ax)\n",
    "ax.set_title('REAL ensemble spread')\n",
    "\n",
    "ax = fig.add_subplot(223,projection=ccrs.Robinson())\n",
    "im = ax.pcolormesh(lon,lat,srocc,transform=ccrs.PlateCarree(),vmin=0,vmax=20,cmap=plt.get_cmap('plasma',12))\n",
    "makeglobal(ax)\n",
    "ax.set_title('SROCC codependence')\n",
    "\n",
    "ax = fig.add_subplot(224,projection=ccrs.Robinson())\n",
    "im2 = ax.pcolormesh(lon,lat,100.*np.abs((srocc-mms)/mms),transform=ccrs.PlateCarree(),vmin=-100,vmax=100,cmap=plt.get_cmap('RdBu_r',10))\n",
    "makeglobal(ax)\n",
    "ax.set_title('diff SROCC-REAL')\n",
    "\n",
    "cax = fig.add_axes([.6,.83,.35,.02])\n",
    "cb = plt.colorbar(im,cax=cax,extend='max',orientation='horizontal')\n",
    "cb.set_label('Uncertainty in RSL (cm)')\n",
    "\n",
    "cax = fig.add_axes([.6,.68,.35,.02])\n",
    "cb = plt.colorbar(im2,cax=cax,extend='both',orientation='horizontal')\n",
    "cb.set_label('Difference (percent)')\n",
    "\n",
    "plt.savefig('figures/posterplot_regunc.pdf')\n",
    "plt.show()\n",
    "plt.close()"
   ]
  },
  {
   "cell_type": "code",
   "execution_count": null,
   "metadata": {},
   "outputs": [],
   "source": []
  }
 ],
 "metadata": {
  "kernelspec": {
   "display_name": "Python 3",
   "language": "python",
   "name": "python3"
  },
  "language_info": {
   "codemirror_mode": {
    "name": "ipython",
    "version": 3
   },
   "file_extension": ".py",
   "mimetype": "text/x-python",
   "name": "python",
   "nbconvert_exporter": "python",
   "pygments_lexer": "ipython3",
   "version": "3.6.10"
  }
 },
 "nbformat": 4,
 "nbformat_minor": 4
}
