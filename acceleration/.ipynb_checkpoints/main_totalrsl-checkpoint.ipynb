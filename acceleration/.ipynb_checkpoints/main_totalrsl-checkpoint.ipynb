{
 "cells": [
  {
   "cell_type": "code",
   "execution_count": 1,
   "metadata": {},
   "outputs": [],
   "source": [
    "import os,sys\n",
    "import xarray as xr\n",
    "import numpy as np\n",
    "import functions as fun\n",
    "sourcedir = '/Volumes/My Passport/cmip5/cmip5'"
   ]
  },
  {
   "cell_type": "code",
   "execution_count": 2,
   "metadata": {},
   "outputs": [],
   "source": [
    "#Get 1x1 degree grid\n",
    "with xr.open_dataset('../rawdata/rsl_85_2090.nc') as ds:\n",
    "    lon = ds['x'].values\n",
    "    lat = ds['y'].values\n",
    "    slr_md = ds['slr_md'].values\n",
    "\n",
    "#Get fingerprints\n",
    "with xr.open_dataset('../rawdata/fp_uniform/AIS.nc') as ds:\n",
    "    lon05  = ds['x'].values\n",
    "    lat05  = ds['y'].values\n",
    "    fp05_a = ds['rsl'].values\n",
    "with xr.open_dataset('../rawdata/fp_uniform/GrIS.nc') as ds:\n",
    "    fp05_gr = ds['rsl'].values\n",
    "fp05_gl = np.zeros((19,len(lat05),len(lon05)))\n",
    "for r in range(1,20):\n",
    "    with xr.open_dataset(f'../rawdata/fp_uniform/RGI_{r}.nc') as ds:\n",
    "        fp05_gl[r-1,:,:] = ds['rsl'].values\n",
    "\n",
    "#Convert to 1x1 degree grid\n",
    "fp_a  = np.zeros((len(lat),len(lon)))\n",
    "fp_gr = np.zeros((len(lat),len(lon)))\n",
    "fp_gl = np.zeros((19,len(lat),len(lon)))\n",
    "\n",
    "for i,ii in enumerate(lat):\n",
    "    ig = np.argmin((ii-lat05)**2)\n",
    "    for j,jj in enumerate(lon):\n",
    "        jg = np.argmin((jj-lon05)**2)\n",
    "        fp_a[i,j] = fp05_a[ig,jg]\n",
    "        fp_gr[i,j] = fp05_gr[ig,jg]\n",
    "        fp_gl[:,i,j] = fp05_gl[:,ig,jg]"
   ]
  },
  {
   "cell_type": "code",
   "execution_count": 35,
   "metadata": {},
   "outputs": [
    {
     "name": "stdout",
     "output_type": "stream",
     "text": [
      "(95, 180, 360) (200, 180, 360)\n"
     ]
    }
   ],
   "source": [
    "gdyn = {}\n",
    "with xr.open_dataset('../rawdata/component-ts-slr-45.nc') as ds:\n",
    "    gia = ds['gia_m'].values\n",
    "    grw = ds['grw_m'].values\n",
    "    gdyn['rcp45'] = ds['greendyn_m'].values\n",
    "with xr.open_dataset('../rawdata/component-ts-slr-85.nc') as ds:\n",
    "    gdyn['rcp85'] = ds['greendyn_m'].values\n",
    "\n",
    "gia = 100.*np.append(np.zeros((1,gia.shape[1],gia.shape[2])),gia,axis=0)\n",
    "grw = 100.*np.append(np.zeros((1,gia.shape[1],gia.shape[2])),grw,axis=0)\n",
    "gdyn['rcp45'] = 100.*np.append(np.zeros((1,gia.shape[1],gia.shape[2])),gdyn['rcp45'],axis=0)\n",
    "gdyn['rcp85'] = 100.*np.append(np.zeros((1,gia.shape[1],gia.shape[2])),gdyn['rcp85'],axis=0)\n",
    "gdyn['rcp45'] = np.append(np.zeros((105,gia.shape[1],gia.shape[2])),gdyn['rcp45'],axis=0)\n",
    "gdyn['rcp85'] = np.append(np.zeros((105,gia.shape[1],gia.shape[2])),gdyn['rcp85'],axis=0)\n",
    "print(grw.shape,gdyn['rcp45'].shape)"
   ]
  },
  {
   "cell_type": "code",
   "execution_count": 38,
   "metadata": {},
   "outputs": [],
   "source": [
    "def rsl(model,scen):\n",
    "    #Get zos\n",
    "    \n",
    "    with xr.open_dataset(f'../rawdata/zos_hist/CorrectedZOS_EXPrcp85_{model}.nc') as ds:\n",
    "        ds = ds.sel(time=slice(1901,2100))\n",
    "        odyn = ds['CorrectedZOS_reg'].values\n",
    "        time = ds['time'].values\n",
    "\n",
    "    with xr.open_dataset(f'../rawdata/zos/CorrectedZOS_EXP{scen}_{model}.nc') as ds:\n",
    "        odyn = np.append(odyn,ds['CorrectedZOS_reg'].values,axis=0)\n",
    "        time = np.append(time,ds['time'].values)\n",
    "        \n",
    "    #Add steric expansion    \n",
    "    with xr.open_dataset(f'../data/steric/{model}_{scen}.nc') as ds:\n",
    "        ds = ds.sel(time_full=slice(1901,2100))\n",
    "        slr = ds['SLR_lt'].values\n",
    "    ster = slr[:,np.newaxis,np.newaxis]*np.ones((len(time),len(lat),len(lon)))\n",
    "    ster[:,np.isnan(slr_md)] = np.nan\n",
    "    \n",
    "    #Add Antarctic dynamics\n",
    "    with xr.open_dataset(f'../data/Adyn/{model}_{scen}.nc') as ds:\n",
    "        ds = ds.sel(time_full=slice(1901,2100))\n",
    "        slr = ds['SLR_lt'].values\n",
    "    adyn = slr[:,np.newaxis,np.newaxis]*fp_a[np.newaxis,:,:]\n",
    "    adyn[:,np.isnan(slr_md)] = np.nan\n",
    "    \n",
    "    with xr.open_dataset(f'../data/Asmb/{model}_{scen}.nc') as ds:  \n",
    "        ds = ds.sel(time_full=slice(1901,2100))\n",
    "        slr = ds['SLR_lt'].values\n",
    "    asmb = slr[:,np.newaxis,np.newaxis]*fp_a[np.newaxis,:,:]\n",
    "    asmb[:,np.isnan(slr_md)] = np.nan\n",
    "    \n",
    "    #Add Greenland smb\n",
    "    with xr.open_dataset(f'../data/Gsmb/{model}_{scen}.nc') as ds:  \n",
    "        ds = ds.sel(time_full=slice(1901,2100))\n",
    "        slr = ds['SLR_lt'].values\n",
    "    gsmb = slr[:,np.newaxis,np.newaxis]*fp_gr[np.newaxis,:,:]\n",
    "    gsmb[:,np.isnan(slr_md)] = np.nan\n",
    "    \n",
    "    #Add glaciers\n",
    "    for r in range(1,20):\n",
    "        with xr.open_dataset(f'data/glacier/{model}_{scen}_{r}.nc') as ds:\n",
    "            ds = ds.sel(time_full=slice(1901,2100))\n",
    "            slr = ds['SLR_lt'].values\n",
    "        if r==1:\n",
    "            glac = slr[:,np.newaxis,np.newaxis]*fp_gl[r-1,:,:]\n",
    "        else:\n",
    "            glac += slr[:,np.newaxis,np.newaxis]*fp_gl[r-1,:,:]\n",
    "    glac[:,np.isnan(slr_md)] = np.nan\n",
    "            \n",
    "    #Get total rsl in cm\n",
    "    \n",
    "    #MISSING GIA\n",
    "    #NEED TO CHECK GDYN\n",
    "    slr = odyn+ster+adyn+asmb+gsmb+glac+gdyn[scen]\n",
    "    \n",
    "    #Save\n",
    "    slr2 = xr.DataArray(slr,dims=('time','lat','lon'),coords={'time':time,'lat':lat,'lon':lon})\n",
    "    ds = xr.Dataset({'SLR':slr2})\n",
    "    ds.to_netcdf(f'../data/rsl_lt/{model}_{scen}.nc')\n",
    "    ds.close()\n",
    "    \n",
    "    print(scen,model,'Saved rsl')"
   ]
  },
  {
   "cell_type": "code",
   "execution_count": 39,
   "metadata": {},
   "outputs": [
    {
     "name": "stdout",
     "output_type": "stream",
     "text": [
      "rcp45 bcc-csm1-1 Saved rsl\n",
      "rcp45 CanESM2 Saved rsl\n",
      "rcp45 CCSM4 Saved rsl\n",
      "rcp45 CNRM-CM5 Saved rsl\n",
      "rcp45 CSIRO-Mk3-6-0 Saved rsl\n",
      "rcp45 GFDL-CM3 Saved rsl\n",
      "rcp45 GISS-E2-R Saved rsl\n",
      "rcp45 HadGEM2-ES Saved rsl\n",
      "rcp45 inmcm4 Saved rsl\n",
      "rcp45 IPSL-CM5A-LR Saved rsl\n",
      "rcp45 MIROC-ESM Saved rsl\n",
      "rcp45 MIROC5 Saved rsl\n",
      "rcp45 MPI-ESM-LR Saved rsl\n",
      "rcp45 MRI-CGCM3 Saved rsl\n",
      "rcp45 NorESM1-M Saved rsl\n",
      "rcp85 bcc-csm1-1 Saved rsl\n",
      "rcp85 CanESM2 Saved rsl\n",
      "rcp85 CCSM4 Saved rsl\n",
      "rcp85 CNRM-CM5 Saved rsl\n",
      "rcp85 CSIRO-Mk3-6-0 Saved rsl\n",
      "rcp85 GFDL-CM3 Saved rsl\n",
      "rcp85 GISS-E2-R Saved rsl\n",
      "rcp85 HadGEM2-ES Saved rsl\n",
      "rcp85 inmcm4 Saved rsl\n",
      "rcp85 IPSL-CM5A-LR Saved rsl\n",
      "rcp85 MIROC-ESM Saved rsl\n",
      "rcp85 MIROC5 Saved rsl\n",
      "rcp85 MPI-ESM-LR Saved rsl\n",
      "rcp85 MRI-CGCM3 Saved rsl\n",
      "rcp85 NorESM1-M Saved rsl\n"
     ]
    }
   ],
   "source": [
    "mods = fun.models()\n",
    "for scen in ['rcp45','rcp85']:\n",
    "    for model in mods:\n",
    "        rsl(model,scen) "
   ]
  },
  {
   "cell_type": "code",
   "execution_count": null,
   "metadata": {},
   "outputs": [],
   "source": []
  }
 ],
 "metadata": {
  "kernelspec": {
   "display_name": "Python 3",
   "language": "python",
   "name": "python3"
  },
  "language_info": {
   "codemirror_mode": {
    "name": "ipython",
    "version": 3
   },
   "file_extension": ".py",
   "mimetype": "text/x-python",
   "name": "python",
   "nbconvert_exporter": "python",
   "pygments_lexer": "ipython3",
   "version": "3.6.10"
  }
 },
 "nbformat": 4,
 "nbformat_minor": 4
}
